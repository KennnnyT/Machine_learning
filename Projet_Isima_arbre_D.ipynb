{
 "cells": [
  {
   "cell_type": "markdown",
   "id": "9625979c",
   "metadata": {
    "papermill": {
     "duration": 0.063349,
     "end_time": "2022-03-15T22:31:50.160270",
     "exception": false,
     "start_time": "2022-03-15T22:31:50.096921",
     "status": "completed"
    },
    "tags": []
   },
   "source": [
    " # TP : découverte des arbres de décision\n",
    "---\n",
    "\n",
    "|   |   |   |\n",
    "|---|---|---|\n",
    "|  | | <img src=\"https://perso.isima.fr/~yjdaniel/cours/resources/arbre.png\" width=\"500\" height=\"300\" /> |\n"
   ]
  },
  {
   "cell_type": "markdown",
   "id": "5eccaef6",
   "metadata": {
    "papermill": {
     "duration": 0.057202,
     "end_time": "2022-03-15T22:31:50.275640",
     "exception": false,
     "start_time": "2022-03-15T22:31:50.218438",
     "status": "completed"
    },
    "tags": []
   },
   "source": [
    "---\n",
    "# Introduction\n",
    "- Vous pouvez (hmmm devez ?) ajouter des blocs de code comme des blocs d'explication.\n",
    "- Pensez à sauvegarder régulièrement\n",
    "- Il est posible de créer une copie locale de votre travail ```file / Download Notebook```. Il est alors possible de travailler en local après avoir installé un serveur Jupyter ainsi que les bibliothèques nécessaires.\n",
    "\n",
    "Les principaux points abordés dans ce TP sont :\n",
    "- La construction des ensembles à manipuler (apprentissage, validation, test)\n",
    "- La visualisation des données\n",
    "- Le choix des critères de séparation pour la création d'un arbre de décision\n",
    "  + cas où la séparation peut s'effectuer sur un unique attribut\n",
    "  + cas où la sépararation est linéaire, mais doit faire intervenir plusieurs attributs\n",
    "- La construction de l'arbre\n",
    "- Le jugement de la qualité de l'apprentissage\n",
    "- Découverte de sklearn\n",
    "- Introduction aux 'random forests'"
   ]
  },
  {
   "cell_type": "markdown",
   "id": "7ee78c27",
   "metadata": {
    "papermill": {
     "duration": 0.057164,
     "end_time": "2022-03-15T22:31:50.390934",
     "exception": false,
     "start_time": "2022-03-15T22:31:50.333770",
     "status": "completed"
    },
    "tags": []
   },
   "source": [
    "---\n",
    "---\n",
    "# Avant l'apprentissage\n",
    "---\n",
    "---"
   ]
  },
  {
   "cell_type": "markdown",
   "id": "763d4e83",
   "metadata": {
    "papermill": {
     "duration": 0.05742,
     "end_time": "2022-03-15T22:31:50.508569",
     "exception": false,
     "start_time": "2022-03-15T22:31:50.451149",
     "status": "completed"
    },
    "tags": []
   },
   "source": [
    "---\n",
    "# Préparation de l'environnement"
   ]
  },
  {
   "cell_type": "markdown",
   "id": "1ac3ade9",
   "metadata": {
    "_uuid": "ccba7157e0d49d5f96781974bc288662d0b445e7",
    "papermill": {
     "duration": 0.059569,
     "end_time": "2022-03-15T22:31:50.627489",
     "exception": false,
     "start_time": "2022-03-15T22:31:50.567920",
     "status": "completed"
    },
    "tags": []
   },
   "source": [
    "## Charger les librairies \n",
    "- numpy\n",
    "- pandas\n",
    "- seaborn\n",
    "- matplotlib.pyplot"
   ]
  },
  {
   "cell_type": "code",
   "execution_count": 1,
   "id": "2d572b1d",
   "metadata": {
    "_uuid": "9fe5f818089e21b8ccc114095b41df724ad1b20b",
    "execution": {
     "iopub.execute_input": "2022-03-15T22:31:50.750599Z",
     "iopub.status.busy": "2022-03-15T22:31:50.749294Z",
     "iopub.status.idle": "2022-03-15T22:31:51.825096Z",
     "shell.execute_reply": "2022-03-15T22:31:51.824365Z",
     "shell.execute_reply.started": "2022-03-15T22:31:14.154016Z"
    },
    "papermill": {
     "duration": 1.139639,
     "end_time": "2022-03-15T22:31:51.825285",
     "exception": false,
     "start_time": "2022-03-15T22:31:50.685646",
     "status": "completed"
    },
    "tags": []
   },
   "outputs": [],
   "source": [
    "# Charger les bibliothèques demandées\n",
    "import  numpy as np\n",
    "import  pandas as pd\n",
    "import  seaborn as sns\n",
    "import  matplotlib.pyplot as plt"
   ]
  },
  {
   "cell_type": "markdown",
   "id": "b4860c86",
   "metadata": {
    "_uuid": "a1d612cf3c048889f3a2044f029856a8761e156d",
    "papermill": {
     "duration": 0.057291,
     "end_time": "2022-03-15T22:31:51.943316",
     "exception": false,
     "start_time": "2022-03-15T22:31:51.886025",
     "status": "completed"
    },
    "tags": []
   },
   "source": [
    " ## Charger la base de données 'Student alcohol consumption' dans l'environnement\n",
    " - Commencer par incorporer la BD dans le kernel : *add data* dans la 'frame' de droite\n",
    " - Utiliser la commande pandas permettant de charger le fichier CSV student-mat des données (attention à l'indexage !)\n",
    " - N'oubliez pas de vérifier l'apparence du résultat en affichant les premières lignes\n",
    " \n",
    "Rappel : les données se trouvent dans \"../input/\", dont on peut lister le contenu par :\n",
    " ```\n",
    "import os\n",
    "print(os.listdir(\"../input/\"))\n",
    "```\n",
    " "
   ]
  },
  {
   "cell_type": "code",
   "execution_count": 2,
   "id": "34f8a627",
   "metadata": {
    "_cell_guid": "b1076dfc-b9ad-4769-8c92-a6c4dae69d19",
    "_kg_hide-input": false,
    "_kg_hide-output": false,
    "_uuid": "8f2839f25d086af736a60e9eeb907d3b93b6e0e5",
    "execution": {
     "iopub.execute_input": "2022-03-15T22:31:52.064484Z",
     "iopub.status.busy": "2022-03-15T22:31:52.063848Z",
     "iopub.status.idle": "2022-03-15T22:31:52.108643Z",
     "shell.execute_reply": "2022-03-15T22:31:52.109142Z",
     "shell.execute_reply.started": "2022-03-15T22:31:14.166021Z"
    },
    "papermill": {
     "duration": 0.108191,
     "end_time": "2022-03-15T22:31:52.109306",
     "exception": false,
     "start_time": "2022-03-15T22:31:52.001115",
     "status": "completed"
    },
    "tags": []
   },
   "outputs": [
    {
     "data": {
      "text/html": [
       "<div>\n",
       "<style scoped>\n",
       "    .dataframe tbody tr th:only-of-type {\n",
       "        vertical-align: middle;\n",
       "    }\n",
       "\n",
       "    .dataframe tbody tr th {\n",
       "        vertical-align: top;\n",
       "    }\n",
       "\n",
       "    .dataframe thead th {\n",
       "        text-align: right;\n",
       "    }\n",
       "</style>\n",
       "<table border=\"1\" class=\"dataframe\">\n",
       "  <thead>\n",
       "    <tr style=\"text-align: right;\">\n",
       "      <th></th>\n",
       "      <th>school</th>\n",
       "      <th>sex</th>\n",
       "      <th>age</th>\n",
       "      <th>address</th>\n",
       "      <th>famsize</th>\n",
       "      <th>Pstatus</th>\n",
       "      <th>Medu</th>\n",
       "      <th>Fedu</th>\n",
       "      <th>Mjob</th>\n",
       "      <th>Fjob</th>\n",
       "      <th>...</th>\n",
       "      <th>famrel</th>\n",
       "      <th>freetime</th>\n",
       "      <th>goout</th>\n",
       "      <th>Dalc</th>\n",
       "      <th>Walc</th>\n",
       "      <th>health</th>\n",
       "      <th>absences</th>\n",
       "      <th>G1</th>\n",
       "      <th>G2</th>\n",
       "      <th>G3</th>\n",
       "    </tr>\n",
       "  </thead>\n",
       "  <tbody>\n",
       "    <tr>\n",
       "      <th>0</th>\n",
       "      <td>GP</td>\n",
       "      <td>F</td>\n",
       "      <td>18</td>\n",
       "      <td>U</td>\n",
       "      <td>GT3</td>\n",
       "      <td>A</td>\n",
       "      <td>4</td>\n",
       "      <td>4</td>\n",
       "      <td>at_home</td>\n",
       "      <td>teacher</td>\n",
       "      <td>...</td>\n",
       "      <td>4</td>\n",
       "      <td>3</td>\n",
       "      <td>4</td>\n",
       "      <td>1</td>\n",
       "      <td>1</td>\n",
       "      <td>3</td>\n",
       "      <td>6</td>\n",
       "      <td>5</td>\n",
       "      <td>6</td>\n",
       "      <td>6</td>\n",
       "    </tr>\n",
       "    <tr>\n",
       "      <th>1</th>\n",
       "      <td>GP</td>\n",
       "      <td>F</td>\n",
       "      <td>17</td>\n",
       "      <td>U</td>\n",
       "      <td>GT3</td>\n",
       "      <td>T</td>\n",
       "      <td>1</td>\n",
       "      <td>1</td>\n",
       "      <td>at_home</td>\n",
       "      <td>other</td>\n",
       "      <td>...</td>\n",
       "      <td>5</td>\n",
       "      <td>3</td>\n",
       "      <td>3</td>\n",
       "      <td>1</td>\n",
       "      <td>1</td>\n",
       "      <td>3</td>\n",
       "      <td>4</td>\n",
       "      <td>5</td>\n",
       "      <td>5</td>\n",
       "      <td>6</td>\n",
       "    </tr>\n",
       "    <tr>\n",
       "      <th>2</th>\n",
       "      <td>GP</td>\n",
       "      <td>F</td>\n",
       "      <td>15</td>\n",
       "      <td>U</td>\n",
       "      <td>LE3</td>\n",
       "      <td>T</td>\n",
       "      <td>1</td>\n",
       "      <td>1</td>\n",
       "      <td>at_home</td>\n",
       "      <td>other</td>\n",
       "      <td>...</td>\n",
       "      <td>4</td>\n",
       "      <td>3</td>\n",
       "      <td>2</td>\n",
       "      <td>2</td>\n",
       "      <td>3</td>\n",
       "      <td>3</td>\n",
       "      <td>10</td>\n",
       "      <td>7</td>\n",
       "      <td>8</td>\n",
       "      <td>10</td>\n",
       "    </tr>\n",
       "    <tr>\n",
       "      <th>3</th>\n",
       "      <td>GP</td>\n",
       "      <td>F</td>\n",
       "      <td>15</td>\n",
       "      <td>U</td>\n",
       "      <td>GT3</td>\n",
       "      <td>T</td>\n",
       "      <td>4</td>\n",
       "      <td>2</td>\n",
       "      <td>health</td>\n",
       "      <td>services</td>\n",
       "      <td>...</td>\n",
       "      <td>3</td>\n",
       "      <td>2</td>\n",
       "      <td>2</td>\n",
       "      <td>1</td>\n",
       "      <td>1</td>\n",
       "      <td>5</td>\n",
       "      <td>2</td>\n",
       "      <td>15</td>\n",
       "      <td>14</td>\n",
       "      <td>15</td>\n",
       "    </tr>\n",
       "    <tr>\n",
       "      <th>4</th>\n",
       "      <td>GP</td>\n",
       "      <td>F</td>\n",
       "      <td>16</td>\n",
       "      <td>U</td>\n",
       "      <td>GT3</td>\n",
       "      <td>T</td>\n",
       "      <td>3</td>\n",
       "      <td>3</td>\n",
       "      <td>other</td>\n",
       "      <td>other</td>\n",
       "      <td>...</td>\n",
       "      <td>4</td>\n",
       "      <td>3</td>\n",
       "      <td>2</td>\n",
       "      <td>1</td>\n",
       "      <td>2</td>\n",
       "      <td>5</td>\n",
       "      <td>4</td>\n",
       "      <td>6</td>\n",
       "      <td>10</td>\n",
       "      <td>10</td>\n",
       "    </tr>\n",
       "  </tbody>\n",
       "</table>\n",
       "<p>5 rows × 33 columns</p>\n",
       "</div>"
      ],
      "text/plain": [
       "  school sex  age address famsize Pstatus  Medu  Fedu     Mjob      Fjob  ...  \\\n",
       "0     GP   F   18       U     GT3       A     4     4  at_home   teacher  ...   \n",
       "1     GP   F   17       U     GT3       T     1     1  at_home     other  ...   \n",
       "2     GP   F   15       U     LE3       T     1     1  at_home     other  ...   \n",
       "3     GP   F   15       U     GT3       T     4     2   health  services  ...   \n",
       "4     GP   F   16       U     GT3       T     3     3    other     other  ...   \n",
       "\n",
       "  famrel freetime  goout  Dalc  Walc health absences  G1  G2  G3  \n",
       "0      4        3      4     1     1      3        6   5   6   6  \n",
       "1      5        3      3     1     1      3        4   5   5   6  \n",
       "2      4        3      2     2     3      3       10   7   8  10  \n",
       "3      3        2      2     1     1      5        2  15  14  15  \n",
       "4      4        3      2     1     2      5        4   6  10  10  \n",
       "\n",
       "[5 rows x 33 columns]"
      ]
     },
     "metadata": {},
     "output_type": "display_data"
    }
   ],
   "source": [
    "# Charger la BD \n",
    "import os\n",
    "\n",
    "fichier = pd.read_csv('../input/student-alcohol-consumption/student-mat.csv')\n",
    "display(fichier.head())"
   ]
  },
  {
   "cell_type": "markdown",
   "id": "e0e76e81",
   "metadata": {
    "_uuid": "6dc70df4f29e0e99b8e8dd004da9f265dc1767e8",
    "papermill": {
     "duration": 0.058144,
     "end_time": "2022-03-15T22:31:52.225930",
     "exception": false,
     "start_time": "2022-03-15T22:31:52.167786",
     "status": "completed"
    },
    "tags": []
   },
   "source": [
    "---\n",
    "# Découverte et préparation de la base\n",
    "- Lister les 3 premières lignes (préférer```display```  à ```print```)"
   ]
  },
  {
   "cell_type": "code",
   "execution_count": 3,
   "id": "febce2e2",
   "metadata": {
    "_uuid": "46300e4e85f62fde4ca427baa5a707ba6a62bb28",
    "execution": {
     "iopub.execute_input": "2022-03-15T22:31:52.362737Z",
     "iopub.status.busy": "2022-03-15T22:31:52.362070Z",
     "iopub.status.idle": "2022-03-15T22:31:52.365152Z",
     "shell.execute_reply": "2022-03-15T22:31:52.365644Z",
     "shell.execute_reply.started": "2022-03-15T22:31:14.194625Z"
    },
    "papermill": {
     "duration": 0.081602,
     "end_time": "2022-03-15T22:31:52.365805",
     "exception": false,
     "start_time": "2022-03-15T22:31:52.284203",
     "status": "completed"
    },
    "tags": []
   },
   "outputs": [
    {
     "data": {
      "text/html": [
       "<div>\n",
       "<style scoped>\n",
       "    .dataframe tbody tr th:only-of-type {\n",
       "        vertical-align: middle;\n",
       "    }\n",
       "\n",
       "    .dataframe tbody tr th {\n",
       "        vertical-align: top;\n",
       "    }\n",
       "\n",
       "    .dataframe thead th {\n",
       "        text-align: right;\n",
       "    }\n",
       "</style>\n",
       "<table border=\"1\" class=\"dataframe\">\n",
       "  <thead>\n",
       "    <tr style=\"text-align: right;\">\n",
       "      <th></th>\n",
       "      <th>school</th>\n",
       "      <th>sex</th>\n",
       "      <th>age</th>\n",
       "      <th>address</th>\n",
       "      <th>famsize</th>\n",
       "      <th>Pstatus</th>\n",
       "      <th>Medu</th>\n",
       "      <th>Fedu</th>\n",
       "      <th>Mjob</th>\n",
       "      <th>Fjob</th>\n",
       "      <th>...</th>\n",
       "      <th>famrel</th>\n",
       "      <th>freetime</th>\n",
       "      <th>goout</th>\n",
       "      <th>Dalc</th>\n",
       "      <th>Walc</th>\n",
       "      <th>health</th>\n",
       "      <th>absences</th>\n",
       "      <th>G1</th>\n",
       "      <th>G2</th>\n",
       "      <th>G3</th>\n",
       "    </tr>\n",
       "  </thead>\n",
       "  <tbody>\n",
       "    <tr>\n",
       "      <th>0</th>\n",
       "      <td>GP</td>\n",
       "      <td>F</td>\n",
       "      <td>18</td>\n",
       "      <td>U</td>\n",
       "      <td>GT3</td>\n",
       "      <td>A</td>\n",
       "      <td>4</td>\n",
       "      <td>4</td>\n",
       "      <td>at_home</td>\n",
       "      <td>teacher</td>\n",
       "      <td>...</td>\n",
       "      <td>4</td>\n",
       "      <td>3</td>\n",
       "      <td>4</td>\n",
       "      <td>1</td>\n",
       "      <td>1</td>\n",
       "      <td>3</td>\n",
       "      <td>6</td>\n",
       "      <td>5</td>\n",
       "      <td>6</td>\n",
       "      <td>6</td>\n",
       "    </tr>\n",
       "    <tr>\n",
       "      <th>1</th>\n",
       "      <td>GP</td>\n",
       "      <td>F</td>\n",
       "      <td>17</td>\n",
       "      <td>U</td>\n",
       "      <td>GT3</td>\n",
       "      <td>T</td>\n",
       "      <td>1</td>\n",
       "      <td>1</td>\n",
       "      <td>at_home</td>\n",
       "      <td>other</td>\n",
       "      <td>...</td>\n",
       "      <td>5</td>\n",
       "      <td>3</td>\n",
       "      <td>3</td>\n",
       "      <td>1</td>\n",
       "      <td>1</td>\n",
       "      <td>3</td>\n",
       "      <td>4</td>\n",
       "      <td>5</td>\n",
       "      <td>5</td>\n",
       "      <td>6</td>\n",
       "    </tr>\n",
       "    <tr>\n",
       "      <th>2</th>\n",
       "      <td>GP</td>\n",
       "      <td>F</td>\n",
       "      <td>15</td>\n",
       "      <td>U</td>\n",
       "      <td>LE3</td>\n",
       "      <td>T</td>\n",
       "      <td>1</td>\n",
       "      <td>1</td>\n",
       "      <td>at_home</td>\n",
       "      <td>other</td>\n",
       "      <td>...</td>\n",
       "      <td>4</td>\n",
       "      <td>3</td>\n",
       "      <td>2</td>\n",
       "      <td>2</td>\n",
       "      <td>3</td>\n",
       "      <td>3</td>\n",
       "      <td>10</td>\n",
       "      <td>7</td>\n",
       "      <td>8</td>\n",
       "      <td>10</td>\n",
       "    </tr>\n",
       "  </tbody>\n",
       "</table>\n",
       "<p>3 rows × 33 columns</p>\n",
       "</div>"
      ],
      "text/plain": [
       "  school sex  age address famsize Pstatus  Medu  Fedu     Mjob     Fjob  ...  \\\n",
       "0     GP   F   18       U     GT3       A     4     4  at_home  teacher  ...   \n",
       "1     GP   F   17       U     GT3       T     1     1  at_home    other  ...   \n",
       "2     GP   F   15       U     LE3       T     1     1  at_home    other  ...   \n",
       "\n",
       "  famrel freetime  goout  Dalc  Walc health absences G1 G2  G3  \n",
       "0      4        3      4     1     1      3        6  5  6   6  \n",
       "1      5        3      3     1     1      3        4  5  5   6  \n",
       "2      4        3      2     2     3      3       10  7  8  10  \n",
       "\n",
       "[3 rows x 33 columns]"
      ]
     },
     "metadata": {},
     "output_type": "display_data"
    }
   ],
   "source": [
    "# Réaliser les premiers affichages\n",
    "display(fichier.head(3))"
   ]
  },
  {
   "cell_type": "markdown",
   "id": "3074c70c",
   "metadata": {
    "papermill": {
     "duration": 0.058637,
     "end_time": "2022-03-15T22:31:52.483894",
     "exception": false,
     "start_time": "2022-03-15T22:31:52.425257",
     "status": "completed"
    },
    "tags": []
   },
   "source": [
    "- Afficher le nombre de lignes ainsi que le nombre de colonnes"
   ]
  },
  {
   "cell_type": "code",
   "execution_count": 4,
   "id": "627fac59",
   "metadata": {
    "execution": {
     "iopub.execute_input": "2022-03-15T22:31:52.605490Z",
     "iopub.status.busy": "2022-03-15T22:31:52.604890Z",
     "iopub.status.idle": "2022-03-15T22:31:52.609825Z",
     "shell.execute_reply": "2022-03-15T22:31:52.610333Z",
     "shell.execute_reply.started": "2022-03-15T22:31:14.218001Z"
    },
    "papermill": {
     "duration": 0.06742,
     "end_time": "2022-03-15T22:31:52.610498",
     "exception": false,
     "start_time": "2022-03-15T22:31:52.543078",
     "status": "completed"
    },
    "tags": []
   },
   "outputs": [
    {
     "name": "stdout",
     "output_type": "stream",
     "text": [
      "NbLigne = 395 Nbcolonnes = 33\n"
     ]
    }
   ],
   "source": [
    "print('NbLigne =',fichier.shape[0],'Nbcolonnes =',fichier.shape[1])"
   ]
  },
  {
   "cell_type": "markdown",
   "id": "eaa6cebe",
   "metadata": {
    "papermill": {
     "duration": 0.058956,
     "end_time": "2022-03-15T22:31:52.729601",
     "exception": false,
     "start_time": "2022-03-15T22:31:52.670645",
     "status": "completed"
    },
    "tags": []
   },
   "source": [
    "- Afficher les types des attributs + nombre de données manquantes par attribut"
   ]
  },
  {
   "cell_type": "code",
   "execution_count": 5,
   "id": "fc4091ff",
   "metadata": {
    "execution": {
     "iopub.execute_input": "2022-03-15T22:31:52.853766Z",
     "iopub.status.busy": "2022-03-15T22:31:52.853060Z",
     "iopub.status.idle": "2022-03-15T22:31:52.865694Z",
     "shell.execute_reply": "2022-03-15T22:31:52.866155Z",
     "shell.execute_reply.started": "2022-03-15T22:31:14.224416Z"
    },
    "papermill": {
     "duration": 0.076243,
     "end_time": "2022-03-15T22:31:52.866329",
     "exception": false,
     "start_time": "2022-03-15T22:31:52.790086",
     "status": "completed"
    },
    "tags": []
   },
   "outputs": [
    {
     "data": {
      "text/plain": [
       "school        object\n",
       "sex           object\n",
       "age            int64\n",
       "address       object\n",
       "famsize       object\n",
       "Pstatus       object\n",
       "Medu           int64\n",
       "Fedu           int64\n",
       "Mjob          object\n",
       "Fjob          object\n",
       "reason        object\n",
       "guardian      object\n",
       "traveltime     int64\n",
       "studytime      int64\n",
       "failures       int64\n",
       "schoolsup     object\n",
       "famsup        object\n",
       "paid          object\n",
       "activities    object\n",
       "nursery       object\n",
       "higher        object\n",
       "internet      object\n",
       "romantic      object\n",
       "famrel         int64\n",
       "freetime       int64\n",
       "goout          int64\n",
       "Dalc           int64\n",
       "Walc           int64\n",
       "health         int64\n",
       "absences       int64\n",
       "G1             int64\n",
       "G2             int64\n",
       "G3             int64\n",
       "dtype: object"
      ]
     },
     "metadata": {},
     "output_type": "display_data"
    },
    {
     "data": {
      "text/plain": [
       "school        0\n",
       "sex           0\n",
       "age           0\n",
       "address       0\n",
       "famsize       0\n",
       "Pstatus       0\n",
       "Medu          0\n",
       "Fedu          0\n",
       "Mjob          0\n",
       "Fjob          0\n",
       "reason        0\n",
       "guardian      0\n",
       "traveltime    0\n",
       "studytime     0\n",
       "failures      0\n",
       "schoolsup     0\n",
       "famsup        0\n",
       "paid          0\n",
       "activities    0\n",
       "nursery       0\n",
       "higher        0\n",
       "internet      0\n",
       "romantic      0\n",
       "famrel        0\n",
       "freetime      0\n",
       "goout         0\n",
       "Dalc          0\n",
       "Walc          0\n",
       "health        0\n",
       "absences      0\n",
       "G1            0\n",
       "G2            0\n",
       "G3            0\n",
       "dtype: int64"
      ]
     },
     "metadata": {},
     "output_type": "display_data"
    }
   ],
   "source": [
    "#display((fichier.dtypes),display(fichier.isnull().sum()))\n",
    "display((fichier.dtypes),fichier.isnull().sum())"
   ]
  },
  {
   "cell_type": "markdown",
   "id": "73b2cdf9",
   "metadata": {
    "papermill": {
     "duration": 0.061406,
     "end_time": "2022-03-15T22:31:52.988643",
     "exception": false,
     "start_time": "2022-03-15T22:31:52.927237",
     "status": "completed"
    },
    "tags": []
   },
   "source": [
    "- Afficher un résumé statistique simple de cette base"
   ]
  },
  {
   "cell_type": "code",
   "execution_count": 6,
   "id": "a45631d4",
   "metadata": {
    "execution": {
     "iopub.execute_input": "2022-03-15T22:31:53.119393Z",
     "iopub.status.busy": "2022-03-15T22:31:53.118671Z",
     "iopub.status.idle": "2022-03-15T22:31:53.171937Z",
     "shell.execute_reply": "2022-03-15T22:31:53.172412Z",
     "shell.execute_reply.started": "2022-03-15T22:31:14.244331Z"
    },
    "papermill": {
     "duration": 0.122436,
     "end_time": "2022-03-15T22:31:53.172608",
     "exception": false,
     "start_time": "2022-03-15T22:31:53.050172",
     "status": "completed"
    },
    "tags": []
   },
   "outputs": [
    {
     "data": {
      "text/html": [
       "<div>\n",
       "<style scoped>\n",
       "    .dataframe tbody tr th:only-of-type {\n",
       "        vertical-align: middle;\n",
       "    }\n",
       "\n",
       "    .dataframe tbody tr th {\n",
       "        vertical-align: top;\n",
       "    }\n",
       "\n",
       "    .dataframe thead th {\n",
       "        text-align: right;\n",
       "    }\n",
       "</style>\n",
       "<table border=\"1\" class=\"dataframe\">\n",
       "  <thead>\n",
       "    <tr style=\"text-align: right;\">\n",
       "      <th></th>\n",
       "      <th>age</th>\n",
       "      <th>Medu</th>\n",
       "      <th>Fedu</th>\n",
       "      <th>traveltime</th>\n",
       "      <th>studytime</th>\n",
       "      <th>failures</th>\n",
       "      <th>famrel</th>\n",
       "      <th>freetime</th>\n",
       "      <th>goout</th>\n",
       "      <th>Dalc</th>\n",
       "      <th>Walc</th>\n",
       "      <th>health</th>\n",
       "      <th>absences</th>\n",
       "      <th>G1</th>\n",
       "      <th>G2</th>\n",
       "      <th>G3</th>\n",
       "    </tr>\n",
       "  </thead>\n",
       "  <tbody>\n",
       "    <tr>\n",
       "      <th>count</th>\n",
       "      <td>395.000000</td>\n",
       "      <td>395.000000</td>\n",
       "      <td>395.000000</td>\n",
       "      <td>395.000000</td>\n",
       "      <td>395.000000</td>\n",
       "      <td>395.000000</td>\n",
       "      <td>395.000000</td>\n",
       "      <td>395.000000</td>\n",
       "      <td>395.000000</td>\n",
       "      <td>395.000000</td>\n",
       "      <td>395.000000</td>\n",
       "      <td>395.000000</td>\n",
       "      <td>395.000000</td>\n",
       "      <td>395.000000</td>\n",
       "      <td>395.000000</td>\n",
       "      <td>395.000000</td>\n",
       "    </tr>\n",
       "    <tr>\n",
       "      <th>mean</th>\n",
       "      <td>16.696203</td>\n",
       "      <td>2.749367</td>\n",
       "      <td>2.521519</td>\n",
       "      <td>1.448101</td>\n",
       "      <td>2.035443</td>\n",
       "      <td>0.334177</td>\n",
       "      <td>3.944304</td>\n",
       "      <td>3.235443</td>\n",
       "      <td>3.108861</td>\n",
       "      <td>1.481013</td>\n",
       "      <td>2.291139</td>\n",
       "      <td>3.554430</td>\n",
       "      <td>5.708861</td>\n",
       "      <td>10.908861</td>\n",
       "      <td>10.713924</td>\n",
       "      <td>10.415190</td>\n",
       "    </tr>\n",
       "    <tr>\n",
       "      <th>std</th>\n",
       "      <td>1.276043</td>\n",
       "      <td>1.094735</td>\n",
       "      <td>1.088201</td>\n",
       "      <td>0.697505</td>\n",
       "      <td>0.839240</td>\n",
       "      <td>0.743651</td>\n",
       "      <td>0.896659</td>\n",
       "      <td>0.998862</td>\n",
       "      <td>1.113278</td>\n",
       "      <td>0.890741</td>\n",
       "      <td>1.287897</td>\n",
       "      <td>1.390303</td>\n",
       "      <td>8.003096</td>\n",
       "      <td>3.319195</td>\n",
       "      <td>3.761505</td>\n",
       "      <td>4.581443</td>\n",
       "    </tr>\n",
       "    <tr>\n",
       "      <th>min</th>\n",
       "      <td>15.000000</td>\n",
       "      <td>0.000000</td>\n",
       "      <td>0.000000</td>\n",
       "      <td>1.000000</td>\n",
       "      <td>1.000000</td>\n",
       "      <td>0.000000</td>\n",
       "      <td>1.000000</td>\n",
       "      <td>1.000000</td>\n",
       "      <td>1.000000</td>\n",
       "      <td>1.000000</td>\n",
       "      <td>1.000000</td>\n",
       "      <td>1.000000</td>\n",
       "      <td>0.000000</td>\n",
       "      <td>3.000000</td>\n",
       "      <td>0.000000</td>\n",
       "      <td>0.000000</td>\n",
       "    </tr>\n",
       "    <tr>\n",
       "      <th>25%</th>\n",
       "      <td>16.000000</td>\n",
       "      <td>2.000000</td>\n",
       "      <td>2.000000</td>\n",
       "      <td>1.000000</td>\n",
       "      <td>1.000000</td>\n",
       "      <td>0.000000</td>\n",
       "      <td>4.000000</td>\n",
       "      <td>3.000000</td>\n",
       "      <td>2.000000</td>\n",
       "      <td>1.000000</td>\n",
       "      <td>1.000000</td>\n",
       "      <td>3.000000</td>\n",
       "      <td>0.000000</td>\n",
       "      <td>8.000000</td>\n",
       "      <td>9.000000</td>\n",
       "      <td>8.000000</td>\n",
       "    </tr>\n",
       "    <tr>\n",
       "      <th>50%</th>\n",
       "      <td>17.000000</td>\n",
       "      <td>3.000000</td>\n",
       "      <td>2.000000</td>\n",
       "      <td>1.000000</td>\n",
       "      <td>2.000000</td>\n",
       "      <td>0.000000</td>\n",
       "      <td>4.000000</td>\n",
       "      <td>3.000000</td>\n",
       "      <td>3.000000</td>\n",
       "      <td>1.000000</td>\n",
       "      <td>2.000000</td>\n",
       "      <td>4.000000</td>\n",
       "      <td>4.000000</td>\n",
       "      <td>11.000000</td>\n",
       "      <td>11.000000</td>\n",
       "      <td>11.000000</td>\n",
       "    </tr>\n",
       "    <tr>\n",
       "      <th>75%</th>\n",
       "      <td>18.000000</td>\n",
       "      <td>4.000000</td>\n",
       "      <td>3.000000</td>\n",
       "      <td>2.000000</td>\n",
       "      <td>2.000000</td>\n",
       "      <td>0.000000</td>\n",
       "      <td>5.000000</td>\n",
       "      <td>4.000000</td>\n",
       "      <td>4.000000</td>\n",
       "      <td>2.000000</td>\n",
       "      <td>3.000000</td>\n",
       "      <td>5.000000</td>\n",
       "      <td>8.000000</td>\n",
       "      <td>13.000000</td>\n",
       "      <td>13.000000</td>\n",
       "      <td>14.000000</td>\n",
       "    </tr>\n",
       "    <tr>\n",
       "      <th>max</th>\n",
       "      <td>22.000000</td>\n",
       "      <td>4.000000</td>\n",
       "      <td>4.000000</td>\n",
       "      <td>4.000000</td>\n",
       "      <td>4.000000</td>\n",
       "      <td>3.000000</td>\n",
       "      <td>5.000000</td>\n",
       "      <td>5.000000</td>\n",
       "      <td>5.000000</td>\n",
       "      <td>5.000000</td>\n",
       "      <td>5.000000</td>\n",
       "      <td>5.000000</td>\n",
       "      <td>75.000000</td>\n",
       "      <td>19.000000</td>\n",
       "      <td>19.000000</td>\n",
       "      <td>20.000000</td>\n",
       "    </tr>\n",
       "  </tbody>\n",
       "</table>\n",
       "</div>"
      ],
      "text/plain": [
       "              age        Medu        Fedu  traveltime   studytime    failures  \\\n",
       "count  395.000000  395.000000  395.000000  395.000000  395.000000  395.000000   \n",
       "mean    16.696203    2.749367    2.521519    1.448101    2.035443    0.334177   \n",
       "std      1.276043    1.094735    1.088201    0.697505    0.839240    0.743651   \n",
       "min     15.000000    0.000000    0.000000    1.000000    1.000000    0.000000   \n",
       "25%     16.000000    2.000000    2.000000    1.000000    1.000000    0.000000   \n",
       "50%     17.000000    3.000000    2.000000    1.000000    2.000000    0.000000   \n",
       "75%     18.000000    4.000000    3.000000    2.000000    2.000000    0.000000   \n",
       "max     22.000000    4.000000    4.000000    4.000000    4.000000    3.000000   \n",
       "\n",
       "           famrel    freetime       goout        Dalc        Walc      health  \\\n",
       "count  395.000000  395.000000  395.000000  395.000000  395.000000  395.000000   \n",
       "mean     3.944304    3.235443    3.108861    1.481013    2.291139    3.554430   \n",
       "std      0.896659    0.998862    1.113278    0.890741    1.287897    1.390303   \n",
       "min      1.000000    1.000000    1.000000    1.000000    1.000000    1.000000   \n",
       "25%      4.000000    3.000000    2.000000    1.000000    1.000000    3.000000   \n",
       "50%      4.000000    3.000000    3.000000    1.000000    2.000000    4.000000   \n",
       "75%      5.000000    4.000000    4.000000    2.000000    3.000000    5.000000   \n",
       "max      5.000000    5.000000    5.000000    5.000000    5.000000    5.000000   \n",
       "\n",
       "         absences          G1          G2          G3  \n",
       "count  395.000000  395.000000  395.000000  395.000000  \n",
       "mean     5.708861   10.908861   10.713924   10.415190  \n",
       "std      8.003096    3.319195    3.761505    4.581443  \n",
       "min      0.000000    3.000000    0.000000    0.000000  \n",
       "25%      0.000000    8.000000    9.000000    8.000000  \n",
       "50%      4.000000   11.000000   11.000000   11.000000  \n",
       "75%      8.000000   13.000000   13.000000   14.000000  \n",
       "max     75.000000   19.000000   19.000000   20.000000  "
      ]
     },
     "execution_count": 6,
     "metadata": {},
     "output_type": "execute_result"
    }
   ],
   "source": [
    "fichier.describe()"
   ]
  },
  {
   "cell_type": "code",
   "execution_count": 7,
   "id": "8bf68b52",
   "metadata": {
    "execution": {
     "iopub.execute_input": "2022-03-15T22:31:53.299099Z",
     "iopub.status.busy": "2022-03-15T22:31:53.298189Z",
     "iopub.status.idle": "2022-03-15T22:31:53.302062Z",
     "shell.execute_reply": "2022-03-15T22:31:53.301528Z",
     "shell.execute_reply.started": "2022-03-15T22:31:14.301482Z"
    },
    "papermill": {
     "duration": 0.068334,
     "end_time": "2022-03-15T22:31:53.302201",
     "exception": false,
     "start_time": "2022-03-15T22:31:53.233867",
     "status": "completed"
    },
    "tags": []
   },
   "outputs": [],
   "source": [
    "#display((fichier.dtypes),display(fichier.isnull().sum())).describe()"
   ]
  },
  {
   "cell_type": "markdown",
   "id": "98427b92",
   "metadata": {
    "papermill": {
     "duration": 0.060926,
     "end_time": "2022-03-15T22:31:53.424660",
     "exception": false,
     "start_time": "2022-03-15T22:31:53.363734",
     "status": "completed"
    },
    "tags": []
   },
   "source": [
    "- Pour chaque attribut non continu, lister les valeurs possibles"
   ]
  },
  {
   "cell_type": "code",
   "execution_count": 8,
   "id": "628ac068",
   "metadata": {
    "execution": {
     "iopub.execute_input": "2022-03-15T22:31:53.550343Z",
     "iopub.status.busy": "2022-03-15T22:31:53.549710Z",
     "iopub.status.idle": "2022-03-15T22:31:53.623918Z",
     "shell.execute_reply": "2022-03-15T22:31:53.624407Z",
     "shell.execute_reply.started": "2022-03-15T22:31:14.306512Z"
    },
    "papermill": {
     "duration": 0.13862,
     "end_time": "2022-03-15T22:31:53.624617",
     "exception": false,
     "start_time": "2022-03-15T22:31:53.485997",
     "status": "completed"
    },
    "tags": []
   },
   "outputs": [
    {
     "data": {
      "text/plain": [
       "'school'"
      ]
     },
     "metadata": {},
     "output_type": "display_data"
    },
    {
     "data": {
      "text/plain": [
       "array(['GP', 'MS'], dtype=object)"
      ]
     },
     "metadata": {},
     "output_type": "display_data"
    },
    {
     "name": "stdout",
     "output_type": "stream",
     "text": [
      "\n"
     ]
    },
    {
     "data": {
      "text/plain": [
       "'sex'"
      ]
     },
     "metadata": {},
     "output_type": "display_data"
    },
    {
     "data": {
      "text/plain": [
       "array(['F', 'M'], dtype=object)"
      ]
     },
     "metadata": {},
     "output_type": "display_data"
    },
    {
     "name": "stdout",
     "output_type": "stream",
     "text": [
      "\n"
     ]
    },
    {
     "data": {
      "text/plain": [
       "'address'"
      ]
     },
     "metadata": {},
     "output_type": "display_data"
    },
    {
     "data": {
      "text/plain": [
       "array(['U', 'R'], dtype=object)"
      ]
     },
     "metadata": {},
     "output_type": "display_data"
    },
    {
     "name": "stdout",
     "output_type": "stream",
     "text": [
      "\n"
     ]
    },
    {
     "data": {
      "text/plain": [
       "'famsize'"
      ]
     },
     "metadata": {},
     "output_type": "display_data"
    },
    {
     "data": {
      "text/plain": [
       "array(['GT3', 'LE3'], dtype=object)"
      ]
     },
     "metadata": {},
     "output_type": "display_data"
    },
    {
     "name": "stdout",
     "output_type": "stream",
     "text": [
      "\n"
     ]
    },
    {
     "data": {
      "text/plain": [
       "'Pstatus'"
      ]
     },
     "metadata": {},
     "output_type": "display_data"
    },
    {
     "data": {
      "text/plain": [
       "array(['A', 'T'], dtype=object)"
      ]
     },
     "metadata": {},
     "output_type": "display_data"
    },
    {
     "name": "stdout",
     "output_type": "stream",
     "text": [
      "\n"
     ]
    },
    {
     "data": {
      "text/plain": [
       "'Mjob'"
      ]
     },
     "metadata": {},
     "output_type": "display_data"
    },
    {
     "data": {
      "text/plain": [
       "array(['at_home', 'health', 'other', 'services', 'teacher'], dtype=object)"
      ]
     },
     "metadata": {},
     "output_type": "display_data"
    },
    {
     "name": "stdout",
     "output_type": "stream",
     "text": [
      "\n"
     ]
    },
    {
     "data": {
      "text/plain": [
       "'Fjob'"
      ]
     },
     "metadata": {},
     "output_type": "display_data"
    },
    {
     "data": {
      "text/plain": [
       "array(['teacher', 'other', 'services', 'health', 'at_home'], dtype=object)"
      ]
     },
     "metadata": {},
     "output_type": "display_data"
    },
    {
     "name": "stdout",
     "output_type": "stream",
     "text": [
      "\n"
     ]
    },
    {
     "data": {
      "text/plain": [
       "'reason'"
      ]
     },
     "metadata": {},
     "output_type": "display_data"
    },
    {
     "data": {
      "text/plain": [
       "array(['course', 'other', 'home', 'reputation'], dtype=object)"
      ]
     },
     "metadata": {},
     "output_type": "display_data"
    },
    {
     "name": "stdout",
     "output_type": "stream",
     "text": [
      "\n"
     ]
    },
    {
     "data": {
      "text/plain": [
       "'guardian'"
      ]
     },
     "metadata": {},
     "output_type": "display_data"
    },
    {
     "data": {
      "text/plain": [
       "array(['mother', 'father', 'other'], dtype=object)"
      ]
     },
     "metadata": {},
     "output_type": "display_data"
    },
    {
     "name": "stdout",
     "output_type": "stream",
     "text": [
      "\n"
     ]
    },
    {
     "data": {
      "text/plain": [
       "'schoolsup'"
      ]
     },
     "metadata": {},
     "output_type": "display_data"
    },
    {
     "data": {
      "text/plain": [
       "array(['yes', 'no'], dtype=object)"
      ]
     },
     "metadata": {},
     "output_type": "display_data"
    },
    {
     "name": "stdout",
     "output_type": "stream",
     "text": [
      "\n"
     ]
    },
    {
     "data": {
      "text/plain": [
       "'famsup'"
      ]
     },
     "metadata": {},
     "output_type": "display_data"
    },
    {
     "data": {
      "text/plain": [
       "array(['no', 'yes'], dtype=object)"
      ]
     },
     "metadata": {},
     "output_type": "display_data"
    },
    {
     "name": "stdout",
     "output_type": "stream",
     "text": [
      "\n"
     ]
    },
    {
     "data": {
      "text/plain": [
       "'paid'"
      ]
     },
     "metadata": {},
     "output_type": "display_data"
    },
    {
     "data": {
      "text/plain": [
       "array(['no', 'yes'], dtype=object)"
      ]
     },
     "metadata": {},
     "output_type": "display_data"
    },
    {
     "name": "stdout",
     "output_type": "stream",
     "text": [
      "\n"
     ]
    },
    {
     "data": {
      "text/plain": [
       "'activities'"
      ]
     },
     "metadata": {},
     "output_type": "display_data"
    },
    {
     "data": {
      "text/plain": [
       "array(['no', 'yes'], dtype=object)"
      ]
     },
     "metadata": {},
     "output_type": "display_data"
    },
    {
     "name": "stdout",
     "output_type": "stream",
     "text": [
      "\n"
     ]
    },
    {
     "data": {
      "text/plain": [
       "'nursery'"
      ]
     },
     "metadata": {},
     "output_type": "display_data"
    },
    {
     "data": {
      "text/plain": [
       "array(['yes', 'no'], dtype=object)"
      ]
     },
     "metadata": {},
     "output_type": "display_data"
    },
    {
     "name": "stdout",
     "output_type": "stream",
     "text": [
      "\n"
     ]
    },
    {
     "data": {
      "text/plain": [
       "'higher'"
      ]
     },
     "metadata": {},
     "output_type": "display_data"
    },
    {
     "data": {
      "text/plain": [
       "array(['yes', 'no'], dtype=object)"
      ]
     },
     "metadata": {},
     "output_type": "display_data"
    },
    {
     "name": "stdout",
     "output_type": "stream",
     "text": [
      "\n"
     ]
    },
    {
     "data": {
      "text/plain": [
       "'internet'"
      ]
     },
     "metadata": {},
     "output_type": "display_data"
    },
    {
     "data": {
      "text/plain": [
       "array(['no', 'yes'], dtype=object)"
      ]
     },
     "metadata": {},
     "output_type": "display_data"
    },
    {
     "name": "stdout",
     "output_type": "stream",
     "text": [
      "\n"
     ]
    },
    {
     "data": {
      "text/plain": [
       "'romantic'"
      ]
     },
     "metadata": {},
     "output_type": "display_data"
    },
    {
     "data": {
      "text/plain": [
       "array(['no', 'yes'], dtype=object)"
      ]
     },
     "metadata": {},
     "output_type": "display_data"
    },
    {
     "name": "stdout",
     "output_type": "stream",
     "text": [
      "\n"
     ]
    }
   ],
   "source": [
    "def valeurs_non_continu(data):\n",
    "    n_cont = data.dtypes == 'object'\n",
    "    for k,v in n_cont.items():\n",
    "        if v == True:\n",
    "            display(k,data[k].unique())\n",
    "            print(\"\")\n",
    "\n",
    "valeurs_non_continu(fichier)"
   ]
  },
  {
   "cell_type": "markdown",
   "id": "890f455c",
   "metadata": {
    "papermill": {
     "duration": 0.084533,
     "end_time": "2022-03-15T22:31:53.794656",
     "exception": false,
     "start_time": "2022-03-15T22:31:53.710123",
     "status": "completed"
    },
    "tags": []
   },
   "source": [
    "- Remplacer les colonnes G1, G2, G3 par une nouvelle colonne G, valant la moyenne de G1, G2, G3"
   ]
  },
  {
   "cell_type": "code",
   "execution_count": 9,
   "id": "39c11152",
   "metadata": {
    "execution": {
     "iopub.execute_input": "2022-03-15T22:31:53.988234Z",
     "iopub.status.busy": "2022-03-15T22:31:53.977977Z",
     "iopub.status.idle": "2022-03-15T22:31:54.004045Z",
     "shell.execute_reply": "2022-03-15T22:31:54.004589Z",
     "shell.execute_reply.started": "2022-03-15T22:31:14.381479Z"
    },
    "papermill": {
     "duration": 0.124071,
     "end_time": "2022-03-15T22:31:54.004772",
     "exception": false,
     "start_time": "2022-03-15T22:31:53.880701",
     "status": "completed"
    },
    "tags": []
   },
   "outputs": [
    {
     "data": {
      "text/html": [
       "<div>\n",
       "<style scoped>\n",
       "    .dataframe tbody tr th:only-of-type {\n",
       "        vertical-align: middle;\n",
       "    }\n",
       "\n",
       "    .dataframe tbody tr th {\n",
       "        vertical-align: top;\n",
       "    }\n",
       "\n",
       "    .dataframe thead th {\n",
       "        text-align: right;\n",
       "    }\n",
       "</style>\n",
       "<table border=\"1\" class=\"dataframe\">\n",
       "  <thead>\n",
       "    <tr style=\"text-align: right;\">\n",
       "      <th></th>\n",
       "      <th>school</th>\n",
       "      <th>sex</th>\n",
       "      <th>age</th>\n",
       "      <th>address</th>\n",
       "      <th>famsize</th>\n",
       "      <th>Pstatus</th>\n",
       "      <th>Medu</th>\n",
       "      <th>Fedu</th>\n",
       "      <th>Mjob</th>\n",
       "      <th>Fjob</th>\n",
       "      <th>...</th>\n",
       "      <th>freetime</th>\n",
       "      <th>goout</th>\n",
       "      <th>Dalc</th>\n",
       "      <th>Walc</th>\n",
       "      <th>health</th>\n",
       "      <th>absences</th>\n",
       "      <th>G1</th>\n",
       "      <th>G2</th>\n",
       "      <th>G3</th>\n",
       "      <th>G</th>\n",
       "    </tr>\n",
       "  </thead>\n",
       "  <tbody>\n",
       "    <tr>\n",
       "      <th>0</th>\n",
       "      <td>GP</td>\n",
       "      <td>F</td>\n",
       "      <td>18</td>\n",
       "      <td>U</td>\n",
       "      <td>GT3</td>\n",
       "      <td>A</td>\n",
       "      <td>4</td>\n",
       "      <td>4</td>\n",
       "      <td>at_home</td>\n",
       "      <td>teacher</td>\n",
       "      <td>...</td>\n",
       "      <td>3</td>\n",
       "      <td>4</td>\n",
       "      <td>1</td>\n",
       "      <td>1</td>\n",
       "      <td>3</td>\n",
       "      <td>6</td>\n",
       "      <td>5.666667</td>\n",
       "      <td>5.666667</td>\n",
       "      <td>5.666667</td>\n",
       "      <td>17</td>\n",
       "    </tr>\n",
       "    <tr>\n",
       "      <th>1</th>\n",
       "      <td>GP</td>\n",
       "      <td>F</td>\n",
       "      <td>17</td>\n",
       "      <td>U</td>\n",
       "      <td>GT3</td>\n",
       "      <td>T</td>\n",
       "      <td>1</td>\n",
       "      <td>1</td>\n",
       "      <td>at_home</td>\n",
       "      <td>other</td>\n",
       "      <td>...</td>\n",
       "      <td>3</td>\n",
       "      <td>3</td>\n",
       "      <td>1</td>\n",
       "      <td>1</td>\n",
       "      <td>3</td>\n",
       "      <td>4</td>\n",
       "      <td>5.333333</td>\n",
       "      <td>5.333333</td>\n",
       "      <td>5.333333</td>\n",
       "      <td>16</td>\n",
       "    </tr>\n",
       "    <tr>\n",
       "      <th>2</th>\n",
       "      <td>GP</td>\n",
       "      <td>F</td>\n",
       "      <td>15</td>\n",
       "      <td>U</td>\n",
       "      <td>LE3</td>\n",
       "      <td>T</td>\n",
       "      <td>1</td>\n",
       "      <td>1</td>\n",
       "      <td>at_home</td>\n",
       "      <td>other</td>\n",
       "      <td>...</td>\n",
       "      <td>3</td>\n",
       "      <td>2</td>\n",
       "      <td>2</td>\n",
       "      <td>3</td>\n",
       "      <td>3</td>\n",
       "      <td>10</td>\n",
       "      <td>8.333333</td>\n",
       "      <td>8.333333</td>\n",
       "      <td>8.333333</td>\n",
       "      <td>25</td>\n",
       "    </tr>\n",
       "    <tr>\n",
       "      <th>3</th>\n",
       "      <td>GP</td>\n",
       "      <td>F</td>\n",
       "      <td>15</td>\n",
       "      <td>U</td>\n",
       "      <td>GT3</td>\n",
       "      <td>T</td>\n",
       "      <td>4</td>\n",
       "      <td>2</td>\n",
       "      <td>health</td>\n",
       "      <td>services</td>\n",
       "      <td>...</td>\n",
       "      <td>2</td>\n",
       "      <td>2</td>\n",
       "      <td>1</td>\n",
       "      <td>1</td>\n",
       "      <td>5</td>\n",
       "      <td>2</td>\n",
       "      <td>14.666667</td>\n",
       "      <td>14.666667</td>\n",
       "      <td>14.666667</td>\n",
       "      <td>44</td>\n",
       "    </tr>\n",
       "    <tr>\n",
       "      <th>4</th>\n",
       "      <td>GP</td>\n",
       "      <td>F</td>\n",
       "      <td>16</td>\n",
       "      <td>U</td>\n",
       "      <td>GT3</td>\n",
       "      <td>T</td>\n",
       "      <td>3</td>\n",
       "      <td>3</td>\n",
       "      <td>other</td>\n",
       "      <td>other</td>\n",
       "      <td>...</td>\n",
       "      <td>3</td>\n",
       "      <td>2</td>\n",
       "      <td>1</td>\n",
       "      <td>2</td>\n",
       "      <td>5</td>\n",
       "      <td>4</td>\n",
       "      <td>8.666667</td>\n",
       "      <td>8.666667</td>\n",
       "      <td>8.666667</td>\n",
       "      <td>26</td>\n",
       "    </tr>\n",
       "    <tr>\n",
       "      <th>...</th>\n",
       "      <td>...</td>\n",
       "      <td>...</td>\n",
       "      <td>...</td>\n",
       "      <td>...</td>\n",
       "      <td>...</td>\n",
       "      <td>...</td>\n",
       "      <td>...</td>\n",
       "      <td>...</td>\n",
       "      <td>...</td>\n",
       "      <td>...</td>\n",
       "      <td>...</td>\n",
       "      <td>...</td>\n",
       "      <td>...</td>\n",
       "      <td>...</td>\n",
       "      <td>...</td>\n",
       "      <td>...</td>\n",
       "      <td>...</td>\n",
       "      <td>...</td>\n",
       "      <td>...</td>\n",
       "      <td>...</td>\n",
       "      <td>...</td>\n",
       "    </tr>\n",
       "    <tr>\n",
       "      <th>390</th>\n",
       "      <td>MS</td>\n",
       "      <td>M</td>\n",
       "      <td>20</td>\n",
       "      <td>U</td>\n",
       "      <td>LE3</td>\n",
       "      <td>A</td>\n",
       "      <td>2</td>\n",
       "      <td>2</td>\n",
       "      <td>services</td>\n",
       "      <td>services</td>\n",
       "      <td>...</td>\n",
       "      <td>5</td>\n",
       "      <td>4</td>\n",
       "      <td>4</td>\n",
       "      <td>5</td>\n",
       "      <td>4</td>\n",
       "      <td>11</td>\n",
       "      <td>9.000000</td>\n",
       "      <td>9.000000</td>\n",
       "      <td>9.000000</td>\n",
       "      <td>27</td>\n",
       "    </tr>\n",
       "    <tr>\n",
       "      <th>391</th>\n",
       "      <td>MS</td>\n",
       "      <td>M</td>\n",
       "      <td>17</td>\n",
       "      <td>U</td>\n",
       "      <td>LE3</td>\n",
       "      <td>T</td>\n",
       "      <td>3</td>\n",
       "      <td>1</td>\n",
       "      <td>services</td>\n",
       "      <td>services</td>\n",
       "      <td>...</td>\n",
       "      <td>4</td>\n",
       "      <td>5</td>\n",
       "      <td>3</td>\n",
       "      <td>4</td>\n",
       "      <td>2</td>\n",
       "      <td>3</td>\n",
       "      <td>15.333333</td>\n",
       "      <td>15.333333</td>\n",
       "      <td>15.333333</td>\n",
       "      <td>46</td>\n",
       "    </tr>\n",
       "    <tr>\n",
       "      <th>392</th>\n",
       "      <td>MS</td>\n",
       "      <td>M</td>\n",
       "      <td>21</td>\n",
       "      <td>R</td>\n",
       "      <td>GT3</td>\n",
       "      <td>T</td>\n",
       "      <td>1</td>\n",
       "      <td>1</td>\n",
       "      <td>other</td>\n",
       "      <td>other</td>\n",
       "      <td>...</td>\n",
       "      <td>5</td>\n",
       "      <td>3</td>\n",
       "      <td>3</td>\n",
       "      <td>3</td>\n",
       "      <td>3</td>\n",
       "      <td>3</td>\n",
       "      <td>8.333333</td>\n",
       "      <td>8.333333</td>\n",
       "      <td>8.333333</td>\n",
       "      <td>25</td>\n",
       "    </tr>\n",
       "    <tr>\n",
       "      <th>393</th>\n",
       "      <td>MS</td>\n",
       "      <td>M</td>\n",
       "      <td>18</td>\n",
       "      <td>R</td>\n",
       "      <td>LE3</td>\n",
       "      <td>T</td>\n",
       "      <td>3</td>\n",
       "      <td>2</td>\n",
       "      <td>services</td>\n",
       "      <td>other</td>\n",
       "      <td>...</td>\n",
       "      <td>4</td>\n",
       "      <td>1</td>\n",
       "      <td>3</td>\n",
       "      <td>4</td>\n",
       "      <td>5</td>\n",
       "      <td>0</td>\n",
       "      <td>11.000000</td>\n",
       "      <td>11.000000</td>\n",
       "      <td>11.000000</td>\n",
       "      <td>33</td>\n",
       "    </tr>\n",
       "    <tr>\n",
       "      <th>394</th>\n",
       "      <td>MS</td>\n",
       "      <td>M</td>\n",
       "      <td>19</td>\n",
       "      <td>U</td>\n",
       "      <td>LE3</td>\n",
       "      <td>T</td>\n",
       "      <td>1</td>\n",
       "      <td>1</td>\n",
       "      <td>other</td>\n",
       "      <td>at_home</td>\n",
       "      <td>...</td>\n",
       "      <td>2</td>\n",
       "      <td>3</td>\n",
       "      <td>3</td>\n",
       "      <td>3</td>\n",
       "      <td>5</td>\n",
       "      <td>5</td>\n",
       "      <td>8.666667</td>\n",
       "      <td>8.666667</td>\n",
       "      <td>8.666667</td>\n",
       "      <td>26</td>\n",
       "    </tr>\n",
       "  </tbody>\n",
       "</table>\n",
       "<p>395 rows × 34 columns</p>\n",
       "</div>"
      ],
      "text/plain": [
       "    school sex  age address famsize Pstatus  Medu  Fedu      Mjob      Fjob  \\\n",
       "0       GP   F   18       U     GT3       A     4     4   at_home   teacher   \n",
       "1       GP   F   17       U     GT3       T     1     1   at_home     other   \n",
       "2       GP   F   15       U     LE3       T     1     1   at_home     other   \n",
       "3       GP   F   15       U     GT3       T     4     2    health  services   \n",
       "4       GP   F   16       U     GT3       T     3     3     other     other   \n",
       "..     ...  ..  ...     ...     ...     ...   ...   ...       ...       ...   \n",
       "390     MS   M   20       U     LE3       A     2     2  services  services   \n",
       "391     MS   M   17       U     LE3       T     3     1  services  services   \n",
       "392     MS   M   21       R     GT3       T     1     1     other     other   \n",
       "393     MS   M   18       R     LE3       T     3     2  services     other   \n",
       "394     MS   M   19       U     LE3       T     1     1     other   at_home   \n",
       "\n",
       "     ... freetime goout  Dalc  Walc  health absences         G1         G2  \\\n",
       "0    ...        3     4     1     1       3        6   5.666667   5.666667   \n",
       "1    ...        3     3     1     1       3        4   5.333333   5.333333   \n",
       "2    ...        3     2     2     3       3       10   8.333333   8.333333   \n",
       "3    ...        2     2     1     1       5        2  14.666667  14.666667   \n",
       "4    ...        3     2     1     2       5        4   8.666667   8.666667   \n",
       "..   ...      ...   ...   ...   ...     ...      ...        ...        ...   \n",
       "390  ...        5     4     4     5       4       11   9.000000   9.000000   \n",
       "391  ...        4     5     3     4       2        3  15.333333  15.333333   \n",
       "392  ...        5     3     3     3       3        3   8.333333   8.333333   \n",
       "393  ...        4     1     3     4       5        0  11.000000  11.000000   \n",
       "394  ...        2     3     3     3       5        5   8.666667   8.666667   \n",
       "\n",
       "            G3   G  \n",
       "0     5.666667  17  \n",
       "1     5.333333  16  \n",
       "2     8.333333  25  \n",
       "3    14.666667  44  \n",
       "4     8.666667  26  \n",
       "..         ...  ..  \n",
       "390   9.000000  27  \n",
       "391  15.333333  46  \n",
       "392   8.333333  25  \n",
       "393  11.000000  33  \n",
       "394   8.666667  26  \n",
       "\n",
       "[395 rows x 34 columns]"
      ]
     },
     "execution_count": 9,
     "metadata": {},
     "output_type": "execute_result"
    }
   ],
   "source": [
    "columns_list = ['G1', 'G2','G3']\n",
    "\n",
    "fichier['G']=fichier[columns_list].sum(axis=1) \n",
    "fichier['G1']=fichier.G/3\n",
    "fichier['G2']=fichier.G/3\n",
    "fichier['G3']=fichier.G/3\n",
    "fichier\n",
    " # ici la colone classe est G "
   ]
  },
  {
   "cell_type": "markdown",
   "id": "01aabda8",
   "metadata": {
    "papermill": {
     "duration": 0.084593,
     "end_time": "2022-03-15T22:31:54.175523",
     "exception": false,
     "start_time": "2022-03-15T22:31:54.090930",
     "status": "completed"
    },
    "tags": []
   },
   "source": [
    "- Remplacer les valeurs de G en suivant la règle suivante :\n",
    "  - $x <8$ --> \"A\"\n",
    "  - $8 \\leq x<10$ --> \"B\"\n",
    "  - $10 \\leq x <13$ --> \"C\"\n",
    "  - $13 \\leq x<16$ --> \"D\"\n",
    "  - $ x \\geq 16$ --> \"E\""
   ]
  },
  {
   "cell_type": "code",
   "execution_count": 10,
   "id": "c8420c15",
   "metadata": {
    "execution": {
     "iopub.execute_input": "2022-03-15T22:31:54.370073Z",
     "iopub.status.busy": "2022-03-15T22:31:54.360163Z",
     "iopub.status.idle": "2022-03-15T22:31:54.384633Z",
     "shell.execute_reply": "2022-03-15T22:31:54.383956Z",
     "shell.execute_reply.started": "2022-03-15T22:31:14.414806Z"
    },
    "papermill": {
     "duration": 0.123515,
     "end_time": "2022-03-15T22:31:54.384785",
     "exception": false,
     "start_time": "2022-03-15T22:31:54.261270",
     "status": "completed"
    },
    "tags": []
   },
   "outputs": [
    {
     "data": {
      "text/html": [
       "<div>\n",
       "<style scoped>\n",
       "    .dataframe tbody tr th:only-of-type {\n",
       "        vertical-align: middle;\n",
       "    }\n",
       "\n",
       "    .dataframe tbody tr th {\n",
       "        vertical-align: top;\n",
       "    }\n",
       "\n",
       "    .dataframe thead th {\n",
       "        text-align: right;\n",
       "    }\n",
       "</style>\n",
       "<table border=\"1\" class=\"dataframe\">\n",
       "  <thead>\n",
       "    <tr style=\"text-align: right;\">\n",
       "      <th></th>\n",
       "      <th>school</th>\n",
       "      <th>sex</th>\n",
       "      <th>age</th>\n",
       "      <th>address</th>\n",
       "      <th>famsize</th>\n",
       "      <th>Pstatus</th>\n",
       "      <th>Medu</th>\n",
       "      <th>Fedu</th>\n",
       "      <th>Mjob</th>\n",
       "      <th>Fjob</th>\n",
       "      <th>...</th>\n",
       "      <th>freetime</th>\n",
       "      <th>goout</th>\n",
       "      <th>Dalc</th>\n",
       "      <th>Walc</th>\n",
       "      <th>health</th>\n",
       "      <th>absences</th>\n",
       "      <th>G1</th>\n",
       "      <th>G2</th>\n",
       "      <th>G3</th>\n",
       "      <th>G</th>\n",
       "    </tr>\n",
       "  </thead>\n",
       "  <tbody>\n",
       "    <tr>\n",
       "      <th>0</th>\n",
       "      <td>GP</td>\n",
       "      <td>F</td>\n",
       "      <td>18</td>\n",
       "      <td>U</td>\n",
       "      <td>GT3</td>\n",
       "      <td>A</td>\n",
       "      <td>4</td>\n",
       "      <td>4</td>\n",
       "      <td>at_home</td>\n",
       "      <td>teacher</td>\n",
       "      <td>...</td>\n",
       "      <td>3</td>\n",
       "      <td>4</td>\n",
       "      <td>1</td>\n",
       "      <td>1</td>\n",
       "      <td>3</td>\n",
       "      <td>6</td>\n",
       "      <td>5.666667</td>\n",
       "      <td>5.666667</td>\n",
       "      <td>5.666667</td>\n",
       "      <td>E</td>\n",
       "    </tr>\n",
       "    <tr>\n",
       "      <th>1</th>\n",
       "      <td>GP</td>\n",
       "      <td>F</td>\n",
       "      <td>17</td>\n",
       "      <td>U</td>\n",
       "      <td>GT3</td>\n",
       "      <td>T</td>\n",
       "      <td>1</td>\n",
       "      <td>1</td>\n",
       "      <td>at_home</td>\n",
       "      <td>other</td>\n",
       "      <td>...</td>\n",
       "      <td>3</td>\n",
       "      <td>3</td>\n",
       "      <td>1</td>\n",
       "      <td>1</td>\n",
       "      <td>3</td>\n",
       "      <td>4</td>\n",
       "      <td>5.333333</td>\n",
       "      <td>5.333333</td>\n",
       "      <td>5.333333</td>\n",
       "      <td>E</td>\n",
       "    </tr>\n",
       "    <tr>\n",
       "      <th>2</th>\n",
       "      <td>GP</td>\n",
       "      <td>F</td>\n",
       "      <td>15</td>\n",
       "      <td>U</td>\n",
       "      <td>LE3</td>\n",
       "      <td>T</td>\n",
       "      <td>1</td>\n",
       "      <td>1</td>\n",
       "      <td>at_home</td>\n",
       "      <td>other</td>\n",
       "      <td>...</td>\n",
       "      <td>3</td>\n",
       "      <td>2</td>\n",
       "      <td>2</td>\n",
       "      <td>3</td>\n",
       "      <td>3</td>\n",
       "      <td>10</td>\n",
       "      <td>8.333333</td>\n",
       "      <td>8.333333</td>\n",
       "      <td>8.333333</td>\n",
       "      <td>E</td>\n",
       "    </tr>\n",
       "    <tr>\n",
       "      <th>3</th>\n",
       "      <td>GP</td>\n",
       "      <td>F</td>\n",
       "      <td>15</td>\n",
       "      <td>U</td>\n",
       "      <td>GT3</td>\n",
       "      <td>T</td>\n",
       "      <td>4</td>\n",
       "      <td>2</td>\n",
       "      <td>health</td>\n",
       "      <td>services</td>\n",
       "      <td>...</td>\n",
       "      <td>2</td>\n",
       "      <td>2</td>\n",
       "      <td>1</td>\n",
       "      <td>1</td>\n",
       "      <td>5</td>\n",
       "      <td>2</td>\n",
       "      <td>14.666667</td>\n",
       "      <td>14.666667</td>\n",
       "      <td>14.666667</td>\n",
       "      <td>E</td>\n",
       "    </tr>\n",
       "    <tr>\n",
       "      <th>4</th>\n",
       "      <td>GP</td>\n",
       "      <td>F</td>\n",
       "      <td>16</td>\n",
       "      <td>U</td>\n",
       "      <td>GT3</td>\n",
       "      <td>T</td>\n",
       "      <td>3</td>\n",
       "      <td>3</td>\n",
       "      <td>other</td>\n",
       "      <td>other</td>\n",
       "      <td>...</td>\n",
       "      <td>3</td>\n",
       "      <td>2</td>\n",
       "      <td>1</td>\n",
       "      <td>2</td>\n",
       "      <td>5</td>\n",
       "      <td>4</td>\n",
       "      <td>8.666667</td>\n",
       "      <td>8.666667</td>\n",
       "      <td>8.666667</td>\n",
       "      <td>E</td>\n",
       "    </tr>\n",
       "    <tr>\n",
       "      <th>...</th>\n",
       "      <td>...</td>\n",
       "      <td>...</td>\n",
       "      <td>...</td>\n",
       "      <td>...</td>\n",
       "      <td>...</td>\n",
       "      <td>...</td>\n",
       "      <td>...</td>\n",
       "      <td>...</td>\n",
       "      <td>...</td>\n",
       "      <td>...</td>\n",
       "      <td>...</td>\n",
       "      <td>...</td>\n",
       "      <td>...</td>\n",
       "      <td>...</td>\n",
       "      <td>...</td>\n",
       "      <td>...</td>\n",
       "      <td>...</td>\n",
       "      <td>...</td>\n",
       "      <td>...</td>\n",
       "      <td>...</td>\n",
       "      <td>...</td>\n",
       "    </tr>\n",
       "    <tr>\n",
       "      <th>390</th>\n",
       "      <td>MS</td>\n",
       "      <td>M</td>\n",
       "      <td>20</td>\n",
       "      <td>U</td>\n",
       "      <td>LE3</td>\n",
       "      <td>A</td>\n",
       "      <td>2</td>\n",
       "      <td>2</td>\n",
       "      <td>services</td>\n",
       "      <td>services</td>\n",
       "      <td>...</td>\n",
       "      <td>5</td>\n",
       "      <td>4</td>\n",
       "      <td>4</td>\n",
       "      <td>5</td>\n",
       "      <td>4</td>\n",
       "      <td>11</td>\n",
       "      <td>9.000000</td>\n",
       "      <td>9.000000</td>\n",
       "      <td>9.000000</td>\n",
       "      <td>E</td>\n",
       "    </tr>\n",
       "    <tr>\n",
       "      <th>391</th>\n",
       "      <td>MS</td>\n",
       "      <td>M</td>\n",
       "      <td>17</td>\n",
       "      <td>U</td>\n",
       "      <td>LE3</td>\n",
       "      <td>T</td>\n",
       "      <td>3</td>\n",
       "      <td>1</td>\n",
       "      <td>services</td>\n",
       "      <td>services</td>\n",
       "      <td>...</td>\n",
       "      <td>4</td>\n",
       "      <td>5</td>\n",
       "      <td>3</td>\n",
       "      <td>4</td>\n",
       "      <td>2</td>\n",
       "      <td>3</td>\n",
       "      <td>15.333333</td>\n",
       "      <td>15.333333</td>\n",
       "      <td>15.333333</td>\n",
       "      <td>E</td>\n",
       "    </tr>\n",
       "    <tr>\n",
       "      <th>392</th>\n",
       "      <td>MS</td>\n",
       "      <td>M</td>\n",
       "      <td>21</td>\n",
       "      <td>R</td>\n",
       "      <td>GT3</td>\n",
       "      <td>T</td>\n",
       "      <td>1</td>\n",
       "      <td>1</td>\n",
       "      <td>other</td>\n",
       "      <td>other</td>\n",
       "      <td>...</td>\n",
       "      <td>5</td>\n",
       "      <td>3</td>\n",
       "      <td>3</td>\n",
       "      <td>3</td>\n",
       "      <td>3</td>\n",
       "      <td>3</td>\n",
       "      <td>8.333333</td>\n",
       "      <td>8.333333</td>\n",
       "      <td>8.333333</td>\n",
       "      <td>E</td>\n",
       "    </tr>\n",
       "    <tr>\n",
       "      <th>393</th>\n",
       "      <td>MS</td>\n",
       "      <td>M</td>\n",
       "      <td>18</td>\n",
       "      <td>R</td>\n",
       "      <td>LE3</td>\n",
       "      <td>T</td>\n",
       "      <td>3</td>\n",
       "      <td>2</td>\n",
       "      <td>services</td>\n",
       "      <td>other</td>\n",
       "      <td>...</td>\n",
       "      <td>4</td>\n",
       "      <td>1</td>\n",
       "      <td>3</td>\n",
       "      <td>4</td>\n",
       "      <td>5</td>\n",
       "      <td>0</td>\n",
       "      <td>11.000000</td>\n",
       "      <td>11.000000</td>\n",
       "      <td>11.000000</td>\n",
       "      <td>E</td>\n",
       "    </tr>\n",
       "    <tr>\n",
       "      <th>394</th>\n",
       "      <td>MS</td>\n",
       "      <td>M</td>\n",
       "      <td>19</td>\n",
       "      <td>U</td>\n",
       "      <td>LE3</td>\n",
       "      <td>T</td>\n",
       "      <td>1</td>\n",
       "      <td>1</td>\n",
       "      <td>other</td>\n",
       "      <td>at_home</td>\n",
       "      <td>...</td>\n",
       "      <td>2</td>\n",
       "      <td>3</td>\n",
       "      <td>3</td>\n",
       "      <td>3</td>\n",
       "      <td>5</td>\n",
       "      <td>5</td>\n",
       "      <td>8.666667</td>\n",
       "      <td>8.666667</td>\n",
       "      <td>8.666667</td>\n",
       "      <td>E</td>\n",
       "    </tr>\n",
       "  </tbody>\n",
       "</table>\n",
       "<p>395 rows × 34 columns</p>\n",
       "</div>"
      ],
      "text/plain": [
       "    school sex  age address famsize Pstatus  Medu  Fedu      Mjob      Fjob  \\\n",
       "0       GP   F   18       U     GT3       A     4     4   at_home   teacher   \n",
       "1       GP   F   17       U     GT3       T     1     1   at_home     other   \n",
       "2       GP   F   15       U     LE3       T     1     1   at_home     other   \n",
       "3       GP   F   15       U     GT3       T     4     2    health  services   \n",
       "4       GP   F   16       U     GT3       T     3     3     other     other   \n",
       "..     ...  ..  ...     ...     ...     ...   ...   ...       ...       ...   \n",
       "390     MS   M   20       U     LE3       A     2     2  services  services   \n",
       "391     MS   M   17       U     LE3       T     3     1  services  services   \n",
       "392     MS   M   21       R     GT3       T     1     1     other     other   \n",
       "393     MS   M   18       R     LE3       T     3     2  services     other   \n",
       "394     MS   M   19       U     LE3       T     1     1     other   at_home   \n",
       "\n",
       "     ... freetime goout  Dalc  Walc  health absences         G1         G2  \\\n",
       "0    ...        3     4     1     1       3        6   5.666667   5.666667   \n",
       "1    ...        3     3     1     1       3        4   5.333333   5.333333   \n",
       "2    ...        3     2     2     3       3       10   8.333333   8.333333   \n",
       "3    ...        2     2     1     1       5        2  14.666667  14.666667   \n",
       "4    ...        3     2     1     2       5        4   8.666667   8.666667   \n",
       "..   ...      ...   ...   ...   ...     ...      ...        ...        ...   \n",
       "390  ...        5     4     4     5       4       11   9.000000   9.000000   \n",
       "391  ...        4     5     3     4       2        3  15.333333  15.333333   \n",
       "392  ...        5     3     3     3       3        3   8.333333   8.333333   \n",
       "393  ...        4     1     3     4       5        0  11.000000  11.000000   \n",
       "394  ...        2     3     3     3       5        5   8.666667   8.666667   \n",
       "\n",
       "            G3  G  \n",
       "0     5.666667  E  \n",
       "1     5.333333  E  \n",
       "2     8.333333  E  \n",
       "3    14.666667  E  \n",
       "4     8.666667  E  \n",
       "..         ... ..  \n",
       "390   9.000000  E  \n",
       "391  15.333333  E  \n",
       "392   8.333333  E  \n",
       "393  11.000000  E  \n",
       "394   8.666667  E  \n",
       "\n",
       "[395 rows x 34 columns]"
      ]
     },
     "execution_count": 10,
     "metadata": {},
     "output_type": "execute_result"
    }
   ],
   "source": [
    "\n",
    "def test (g):\n",
    "    if g<8:\n",
    "        return 'A'\n",
    "    elif g>=8 and g <10:\n",
    "        return 'B'\n",
    "    elif g>= 10 and g<13:\n",
    "        return 'C'\n",
    "    elif g>= 13 and g<16:\n",
    "        return 'D'\n",
    "    elif g>= 16:\n",
    "        return 'E'\n",
    "    \n",
    "fichier['G'] = fichier['G'].apply(test)\n",
    "#fichier.loc[fichier.G.apply(test), 'G']\n",
    "fichier\n",
    "\n",
    "# cette exercice ma couter beaucoup en reflexion ;)"
   ]
  },
  {
   "cell_type": "code",
   "execution_count": 11,
   "id": "a803f1e7",
   "metadata": {
    "execution": {
     "iopub.execute_input": "2022-03-15T22:31:54.561383Z",
     "iopub.status.busy": "2022-03-15T22:31:54.560339Z",
     "iopub.status.idle": "2022-03-15T22:31:54.563199Z",
     "shell.execute_reply": "2022-03-15T22:31:54.562636Z",
     "shell.execute_reply.started": "2022-03-15T22:31:14.446028Z"
    },
    "papermill": {
     "duration": 0.092854,
     "end_time": "2022-03-15T22:31:54.563336",
     "exception": false,
     "start_time": "2022-03-15T22:31:54.470482",
     "status": "completed"
    },
    "tags": []
   },
   "outputs": [],
   "source": [
    "#fichier.loc[fichier.G>8 and fichier.G<10  'G']='A'"
   ]
  },
  {
   "cell_type": "markdown",
   "id": "b363ab93",
   "metadata": {
    "papermill": {
     "duration": 0.086493,
     "end_time": "2022-03-15T22:31:54.735758",
     "exception": false,
     "start_time": "2022-03-15T22:31:54.649265",
     "status": "completed"
    },
    "tags": []
   },
   "source": [
    "- Compter le nombre de ligne pour chacune des valuations possibles de l'attribut \"G\". Dans la suite, le but du TP sera de prédir en fonction es autres attributs la valeur de l'attribut G."
   ]
  },
  {
   "cell_type": "code",
   "execution_count": 12,
   "id": "5e740cd7",
   "metadata": {
    "execution": {
     "iopub.execute_input": "2022-03-15T22:31:54.914895Z",
     "iopub.status.busy": "2022-03-15T22:31:54.914134Z",
     "iopub.status.idle": "2022-03-15T22:31:54.917257Z",
     "shell.execute_reply": "2022-03-15T22:31:54.918184Z",
     "shell.execute_reply.started": "2022-03-15T22:31:14.450843Z"
    },
    "papermill": {
     "duration": 0.096861,
     "end_time": "2022-03-15T22:31:54.918424",
     "exception": false,
     "start_time": "2022-03-15T22:31:54.821563",
     "status": "completed"
    },
    "tags": []
   },
   "outputs": [
    {
     "name": "stdout",
     "output_type": "stream",
     "text": [
      "Nb lignes =  395\n"
     ]
    }
   ],
   "source": [
    "print(\"Nb lignes = \",fichier['G'].shape[0])"
   ]
  },
  {
   "cell_type": "markdown",
   "id": "ff56b12b",
   "metadata": {
    "papermill": {
     "duration": 0.088089,
     "end_time": "2022-03-15T22:31:55.096271",
     "exception": false,
     "start_time": "2022-03-15T22:31:55.008182",
     "status": "completed"
    },
    "tags": []
   },
   "source": [
    "- Calculer l'effectif de chacune des classes"
   ]
  },
  {
   "cell_type": "code",
   "execution_count": 13,
   "id": "214cdd56",
   "metadata": {
    "execution": {
     "iopub.execute_input": "2022-03-15T22:31:55.277728Z",
     "iopub.status.busy": "2022-03-15T22:31:55.277096Z",
     "iopub.status.idle": "2022-03-15T22:31:55.280273Z",
     "shell.execute_reply": "2022-03-15T22:31:55.279661Z",
     "shell.execute_reply.started": "2022-03-15T22:31:14.466787Z"
    },
    "papermill": {
     "duration": 0.095941,
     "end_time": "2022-03-15T22:31:55.280407",
     "exception": false,
     "start_time": "2022-03-15T22:31:55.184466",
     "status": "completed"
    },
    "tags": []
   },
   "outputs": [
    {
     "data": {
      "text/plain": [
       "E    365\n",
       "D     10\n",
       "C     10\n",
       "A      8\n",
       "B      2\n",
       "Name: G, dtype: int64"
      ]
     },
     "metadata": {},
     "output_type": "display_data"
    }
   ],
   "source": [
    "fq = fichier[\"G\"].value_counts()\n",
    "display(fq)"
   ]
  },
  {
   "cell_type": "markdown",
   "id": "1a28c1bb",
   "metadata": {
    "papermill": {
     "duration": 0.086651,
     "end_time": "2022-03-15T22:31:55.453955",
     "exception": false,
     "start_time": "2022-03-15T22:31:55.367304",
     "status": "completed"
    },
    "tags": []
   },
   "source": [
    "# Séparation de la base de données\n",
    "- Lire le manuel de ```sklearn.model_selection.train_test_split```\n",
    "  - Examiner en particulier l'option stratify, il faudra la mettre en oeuvre\n",
    "  - Se poser la question de l'intérêt de random_state\n",
    "- A l'aide de cette séparer la base de données en trois ensembles :\n",
    "    - base d'apprentissage (50% des données) : train_X, train_Y\n",
    "    - base de validation (25% des données) : validation_X, validation_Y\n",
    "    - base de test (25% des données) : test_X, test_Y\n",
    "- Rappeler la fonction de chacune de ces bases.\n",
    "\n",
    "!!! Dans la suite, choisir avec attention sur quelle base les opérations doivent être réalisées !!!"
   ]
  },
  {
   "cell_type": "code",
   "execution_count": 14,
   "id": "b0c38377",
   "metadata": {
    "execution": {
     "iopub.execute_input": "2022-03-15T22:31:55.631492Z",
     "iopub.status.busy": "2022-03-15T22:31:55.630839Z",
     "iopub.status.idle": "2022-03-15T22:31:55.820336Z",
     "shell.execute_reply": "2022-03-15T22:31:55.819768Z",
     "shell.execute_reply.started": "2022-03-15T22:31:14.479505Z"
    },
    "papermill": {
     "duration": 0.279424,
     "end_time": "2022-03-15T22:31:55.820477",
     "exception": false,
     "start_time": "2022-03-15T22:31:55.541053",
     "status": "completed"
    },
    "tags": []
   },
   "outputs": [],
   "source": [
    "from sklearn.model_selection import train_test_split"
   ]
  },
  {
   "cell_type": "code",
   "execution_count": 15,
   "id": "b829a929",
   "metadata": {
    "execution": {
     "iopub.execute_input": "2022-03-15T22:31:56.003180Z",
     "iopub.status.busy": "2022-03-15T22:31:56.002486Z",
     "iopub.status.idle": "2022-03-15T22:31:56.008881Z",
     "shell.execute_reply": "2022-03-15T22:31:56.009383Z",
     "shell.execute_reply.started": "2022-03-15T22:31:14.490576Z"
    },
    "papermill": {
     "duration": 0.101884,
     "end_time": "2022-03-15T22:31:56.009579",
     "exception": false,
     "start_time": "2022-03-15T22:31:55.907695",
     "status": "completed"
    },
    "tags": []
   },
   "outputs": [],
   "source": [
    "y = fichier.G\n",
    "features = ['school', 'sex', 'age', 'address', 'famsize', 'Pstatus', 'Medu', 'Fedu',\n",
    "'Mjob', 'Fjob', 'reason', 'guardian', 'traveltime', 'studytime',\n",
    "'failures', 'schoolsup', 'famsup', 'paid', 'activities', 'nursery',\n",
    "'higher', 'internet', 'romantic', 'famrel', 'freetime', 'goout', 'Dalc',\n",
    "'Walc', 'health', 'absences']\n",
    "X = fichier[features]\n",
    "train_X, test_X, train_y, test_y = train_test_split(X, y, train_size=0.5, random_state=\n",
    "1)\n",
    "test_X, val_X, test_y, val_y = train_test_split(test_X, test_y, train_size=0.5, random_state=1)"
   ]
  },
  {
   "cell_type": "code",
   "execution_count": 16,
   "id": "12ee0c18",
   "metadata": {
    "execution": {
     "iopub.execute_input": "2022-03-15T22:31:56.187207Z",
     "iopub.status.busy": "2022-03-15T22:31:56.186597Z",
     "iopub.status.idle": "2022-03-15T22:31:56.191674Z",
     "shell.execute_reply": "2022-03-15T22:31:56.192150Z",
     "shell.execute_reply.started": "2022-03-15T22:31:14.506237Z"
    },
    "papermill": {
     "duration": 0.095232,
     "end_time": "2022-03-15T22:31:56.192309",
     "exception": false,
     "start_time": "2022-03-15T22:31:56.097077",
     "status": "completed"
    },
    "tags": []
   },
   "outputs": [
    {
     "name": "stdout",
     "output_type": "stream",
     "text": [
      "(197, 30)\n",
      "(99, 30)\n",
      "(99, 30)\n"
     ]
    }
   ],
   "source": [
    "print(train_X.shape)# 50%\n",
    "print(test_X.shape)#25%\n",
    "print(val_X.shape)#25%"
   ]
  },
  {
   "cell_type": "markdown",
   "id": "03d92e6c",
   "metadata": {
    "papermill": {
     "duration": 0.087118,
     "end_time": "2022-03-15T22:31:56.366207",
     "exception": false,
     "start_time": "2022-03-15T22:31:56.279089",
     "status": "completed"
    },
    "tags": []
   },
   "source": [
    "---\n",
    "---\n",
    "# Mise en place manuelle d'un arbre de décision\n",
    "---\n",
    "---"
   ]
  },
  {
   "cell_type": "code",
   "execution_count": 17,
   "id": "ebd8e688",
   "metadata": {
    "execution": {
     "iopub.execute_input": "2022-03-15T22:31:56.543887Z",
     "iopub.status.busy": "2022-03-15T22:31:56.543255Z",
     "iopub.status.idle": "2022-03-15T22:31:56.551089Z",
     "shell.execute_reply": "2022-03-15T22:31:56.551690Z",
     "shell.execute_reply.started": "2022-03-15T22:31:14.515473Z"
    },
    "papermill": {
     "duration": 0.098506,
     "end_time": "2022-03-15T22:31:56.551857",
     "exception": false,
     "start_time": "2022-03-15T22:31:56.453351",
     "status": "completed"
    },
    "tags": []
   },
   "outputs": [
    {
     "data": {
      "text/plain": [
       "E    0.337963\n",
       "D    0.009259\n",
       "C    0.009259\n",
       "A    0.007407\n",
       "B    0.001852\n",
       "Name: G, dtype: float64"
      ]
     },
     "metadata": {},
     "output_type": "display_data"
    }
   ],
   "source": [
    "import math\n",
    "\n",
    "\n",
    "#On calcule la fréquence de chaque classe\n",
    "fq = fichier[\"G\"].value_counts()/1080\n",
    "display(fq)\n",
    "\n",
    "\n",
    "#Calcul de l'entropie\n",
    "def entropy(fq):\n",
    "    entropy = 0\n",
    "    for x in fq:\n",
    "        entropy = entropy + (x * math.log2(x)) #L'entropie\n",
    "    return -1 * entropy"
   ]
  },
  {
   "cell_type": "code",
   "execution_count": 18,
   "id": "d67daa3c",
   "metadata": {
    "execution": {
     "iopub.execute_input": "2022-03-15T22:31:56.731284Z",
     "iopub.status.busy": "2022-03-15T22:31:56.730670Z",
     "iopub.status.idle": "2022-03-15T22:31:56.736360Z",
     "shell.execute_reply": "2022-03-15T22:31:56.735871Z",
     "shell.execute_reply.started": "2022-03-15T22:31:14.532740Z"
    },
    "papermill": {
     "duration": 0.096819,
     "end_time": "2022-03-15T22:31:56.736498",
     "exception": false,
     "start_time": "2022-03-15T22:31:56.639679",
     "status": "completed"
    },
    "tags": []
   },
   "outputs": [
    {
     "name": "stdout",
     "output_type": "stream",
     "text": [
      " Entropie générale =  0.7232535928817013\n"
     ]
    }
   ],
   "source": [
    "print(\" Entropie générale = \", entropy(fq))"
   ]
  },
  {
   "cell_type": "code",
   "execution_count": 19,
   "id": "6f71cb18",
   "metadata": {
    "execution": {
     "iopub.execute_input": "2022-03-15T22:31:56.921528Z",
     "iopub.status.busy": "2022-03-15T22:31:56.920861Z",
     "iopub.status.idle": "2022-03-15T22:31:57.446245Z",
     "shell.execute_reply": "2022-03-15T22:31:57.445740Z",
     "shell.execute_reply.started": "2022-03-15T22:31:14.541261Z"
    },
    "papermill": {
     "duration": 0.621234,
     "end_time": "2022-03-15T22:31:57.446398",
     "exception": false,
     "start_time": "2022-03-15T22:31:56.825164",
     "status": "completed"
    },
    "tags": []
   },
   "outputs": [
    {
     "data": {
      "text/plain": [
       "<AxesSubplot:title={'center':'Distribution Attribut sex'}, xlabel='G', ylabel='Count'>"
      ]
     },
     "execution_count": 19,
     "metadata": {},
     "output_type": "execute_result"
    },
    {
     "data": {
      "image/png": "[encoded data removed]",
      "text/plain": [
       "<Figure size 648x216 with 1 Axes>"
      ]
     },
     "metadata": {
      "needs_background": "light"
     },
     "output_type": "display_data"
    },
    {
     "data": {
      "image/png": "[encoded data removed]",
      "text/plain": [
       "<Figure size 648x216 with 1 Axes>"
      ]
     },
     "metadata": {
      "needs_background": "light"
     },
     "output_type": "display_data"
    }
   ],
   "source": [
    "plt.figure(figsize=(9,3))\n",
    "plt.title(\"Distribution Attribut scool\")\n",
    "sns.histplot(data=fichier,x='G',hue='school', multiple='dodge', shrink=.6)\n",
    "plt.figure(figsize=(9,3))\n",
    "plt.title(\"Distribution Attribut sex\")\n",
    "sns.histplot(data=fichier,x='G',hue='sex', multiple='dodge', shrink=.6)"
   ]
  },
  {
   "cell_type": "code",
   "execution_count": null,
   "id": "71dc13e5",
   "metadata": {
    "papermill": {
     "duration": 0.091539,
     "end_time": "2022-03-15T22:31:57.628471",
     "exception": false,
     "start_time": "2022-03-15T22:31:57.536932",
     "status": "completed"
    },
    "tags": []
   },
   "outputs": [],
   "source": []
  },
  {
   "cell_type": "markdown",
   "id": "b205af06",
   "metadata": {
    "papermill": {
     "duration": 0.090034,
     "end_time": "2022-03-15T22:31:57.810214",
     "exception": false,
     "start_time": "2022-03-15T22:31:57.720180",
     "status": "completed"
    },
    "tags": []
   },
   "source": [
    "---\n",
    "# Première découpe"
   ]
  },
  {
   "cell_type": "code",
   "execution_count": 20,
   "id": "e0f70d2c",
   "metadata": {
    "execution": {
     "iopub.execute_input": "2022-03-15T22:31:58.017073Z",
     "iopub.status.busy": "2022-03-15T22:31:58.016381Z",
     "iopub.status.idle": "2022-03-15T22:31:59.538311Z",
     "shell.execute_reply": "2022-03-15T22:31:59.538875Z",
     "shell.execute_reply.started": "2022-03-15T22:31:15.026374Z"
    },
    "papermill": {
     "duration": 1.637971,
     "end_time": "2022-03-15T22:31:59.539058",
     "exception": false,
     "start_time": "2022-03-15T22:31:57.901087",
     "status": "completed"
    },
    "tags": []
   },
   "outputs": [
    {
     "data": {
      "text/plain": [
       "<AxesSubplot:title={'center':\"Distribution des exemples sur l'attribut Fjob\"}, xlabel='G', ylabel='Count'>"
      ]
     },
     "execution_count": 20,
     "metadata": {},
     "output_type": "execute_result"
    },
    {
     "data": {
      "image/png": "[encoded data removed]",
      "text/plain": [
       "<Figure size 648x216 with 1 Axes>"
      ]
     },
     "metadata": {
      "needs_background": "light"
     },
     "output_type": "display_data"
    },
    {
     "data": {
      "image/png": "[encoded data removed]",
      "text/plain": [
       "<Figure size 648x216 with 1 Axes>"
      ]
     },
     "metadata": {
      "needs_background": "light"
     },
     "output_type": "display_data"
    },
    {
     "data": {
      "image/png": "[encoded data removed]",
      "text/plain": [
       "<Figure size 648x216 with 1 Axes>"
      ]
     },
     "metadata": {
      "needs_background": "light"
     },
     "output_type": "display_data"
    },
    {
     "data": {
      "image/png": "[encoded data removed]",
      "text/plain": [
       "<Figure size 648x216 with 1 Axes>"
      ]
     },
     "metadata": {
      "needs_background": "light"
     },
     "output_type": "display_data"
    },
    {
     "data": {
      "image/png": "[encoded data removed]",
      "text/plain": [
       "<Figure size 648x216 with 1 Axes>"
      ]
     },
     "metadata": {
      "needs_background": "light"
     },
     "output_type": "display_data"
    }
   ],
   "source": [
    "plt.figure(figsize=(9,3))\n",
    "plt.title(\"Distribution des exemples sur l'attribut address\")\n",
    "sns.histplot(data=fichier,x='G',hue='address', multiple='dodge', shrink=.6)\n",
    "plt.figure(figsize=(9,3))\n",
    "plt.title(\"Distribution des exemples sur l'attribut famsize\")\n",
    "sns.histplot(data=fichier,x='G',hue='famsize', multiple='dodge', shrink=.6)\n",
    "plt.figure(figsize=(9,3))\n",
    "plt.title(\"Distribution des exemples sur l'attribut Pstatus\")\n",
    "sns.histplot(data=fichier,x='G',hue='Pstatus', multiple='dodge', shrink=.6)\n",
    "plt.figure(figsize=(9,3))\n",
    "plt.title(\"Distribution des exemples sur l'attribut Mjob\")\n",
    "sns.histplot(data=fichier,x='G',hue='Mjob', multiple='dodge', shrink=.6)\n",
    "plt.figure(figsize=(9,3))\n",
    "plt.title(\"Distribution des exemples sur l'attribut Fjob\")\n",
    "sns.histplot(data=fichier,x='G',hue='Fjob', multiple='dodge', shrink=.6)"
   ]
  },
  {
   "cell_type": "markdown",
   "id": "33d657b3",
   "metadata": {
    "papermill": {
     "duration": 0.095696,
     "end_time": "2022-03-15T22:31:59.730467",
     "exception": false,
     "start_time": "2022-03-15T22:31:59.634771",
     "status": "completed"
    },
    "tags": []
   },
   "source": [
    "## Pour chaque attribut\n",
    "Représenter sur le même graphique la distribution des exemples en fonction de leur classe. On choisira un sns.histplot que l'on configurera au mieux."
   ]
  },
  {
   "cell_type": "code",
   "execution_count": 21,
   "id": "7a60a359",
   "metadata": {
    "execution": {
     "iopub.execute_input": "2022-03-15T22:31:59.925261Z",
     "iopub.status.busy": "2022-03-15T22:31:59.924415Z",
     "iopub.status.idle": "2022-03-15T22:32:02.209521Z",
     "shell.execute_reply": "2022-03-15T22:32:02.209016Z",
     "shell.execute_reply.started": "2022-03-15T22:31:16.430205Z"
    },
    "papermill": {
     "duration": 2.383647,
     "end_time": "2022-03-15T22:32:02.209703",
     "exception": false,
     "start_time": "2022-03-15T22:31:59.826056",
     "status": "completed"
    },
    "tags": []
   },
   "outputs": [
    {
     "data": {
      "text/plain": [
       "<AxesSubplot:title={'center':\"Distribution des exemples sur l'attribut internet\"}, xlabel='G', ylabel='Count'>"
      ]
     },
     "execution_count": 21,
     "metadata": {},
     "output_type": "execute_result"
    },
    {
     "data": {
      "image/png": "[encoded data removed]",
      "text/plain": [
       "<Figure size 648x216 with 1 Axes>"
      ]
     },
     "metadata": {
      "needs_background": "light"
     },
     "output_type": "display_data"
    },
    {
     "data": {
      "image/png": "[encoded data removed]",
      "text/plain": [
       "<Figure size 648x216 with 1 Axes>"
      ]
     },
     "metadata": {
      "needs_background": "light"
     },
     "output_type": "display_data"
    },
    {
     "data": {
      "image/png": "[encoded data removed]",
      "text/plain": [
       "<Figure size 648x216 with 1 Axes>"
      ]
     },
     "metadata": {
      "needs_background": "light"
     },
     "output_type": "display_data"
    },
    {
     "data": {
      "image/png": "[encoded data removed]",
      "text/plain": [
       "<Figure size 648x216 with 1 Axes>"
      ]
     },
     "metadata": {
      "needs_background": "light"
     },
     "output_type": "display_data"
    },
    {
     "data": {
      "image/png": "[encoded data removed]",
      "text/plain": [
       "<Figure size 648x216 with 1 Axes>"
      ]
     },
     "metadata": {
      "needs_background": "light"
     },
     "output_type": "display_data"
    },
    {
     "data": {
      "image/png": "[encoded data removed]",
      "text/plain": [
       "<Figure size 648x216 with 1 Axes>"
      ]
     },
     "metadata": {
      "needs_background": "light"
     },
     "output_type": "display_data"
    },
    {
     "data": {
      "image/png": "[encoded data removed]",
      "text/plain": [
       "<Figure size 648x216 with 1 Axes>"
      ]
     },
     "metadata": {
      "needs_background": "light"
     },
     "output_type": "display_data"
    },
    {
     "data": {
      "image/png": "[encoded data removed]",
      "text/plain": [
       "<Figure size 648x216 with 1 Axes>"
      ]
     },
     "metadata": {
      "needs_background": "light"
     },
     "output_type": "display_data"
    },
    {
     "data": {
      "image/png": "[encoded data removed]",
      "text/plain": [
       "<Figure size 648x216 with 1 Axes>"
      ]
     },
     "metadata": {
      "needs_background": "light"
     },
     "output_type": "display_data"
    }
   ],
   "source": [
    "plt.figure(figsize=(9,3))\n",
    "plt.title(\"Distribution des exemples sur l'attribut reason\")\n",
    "sns.histplot(data=fichier,x='G',hue='reason', multiple='dodge', shrink=.6)\n",
    "plt.figure(figsize=(9,3))\n",
    "plt.title(\"Distribution des exemples sur l'attribut guardian\")\n",
    "sns.histplot(data=fichier,x='G',hue='guardian', multiple='dodge', shrink=.6)\n",
    "plt.figure(figsize=(9,3))\n",
    "plt.title(\"Distribution des exemples sur l'attribut schoolsup\")\n",
    "sns.histplot(data=fichier,x='G',hue='schoolsup', multiple='dodge', shrink=.6)\n",
    "plt.figure(figsize=(9,3))\n",
    "plt.title(\"Distribution des exemples sur l'attribut famsup\")\n",
    "sns.histplot(data=fichier,x='G',hue='famsup', multiple='dodge', shrink=.6)\n",
    "plt.figure(figsize=(9,3))\n",
    "plt.title(\"Distribution des exemples sur l'attribut paid\")\n",
    "sns.histplot(data=fichier,x='G',hue='paid', multiple='dodge', shrink=.6)\n",
    "plt.figure(figsize=(9,3))\n",
    "plt.title(\"Distribution des exemples sur l'attribut activities\")\n",
    "sns.histplot(data=fichier,x='G',hue='activities', multiple='dodge', shrink=.6)\n",
    "plt.figure(figsize=(9,3))\n",
    "plt.title(\"Distribution des exemples sur l'attribut nursery\")\n",
    "sns.histplot(data=fichier,x='G',hue='nursery', multiple='dodge', shrink=.6)\n",
    "plt.figure(figsize=(9,3))\n",
    "plt.title(\"Distribution des exemples sur l'attribut higher\")\n",
    "sns.histplot(data=fichier,x='G',hue='higher', multiple='dodge', shrink=.6)\n",
    "plt.figure(figsize=(9,3))\n",
    "plt.title(\"Distribution des exemples sur l'attribut internet\")\n",
    "sns.histplot(data=fichier,x='G',hue='internet', multiple='dodge', shrink=.6)\n"
   ]
  },
  {
   "cell_type": "markdown",
   "id": "a68ad4f5",
   "metadata": {
    "papermill": {
     "duration": 0.103913,
     "end_time": "2022-03-15T22:32:02.419302",
     "exception": false,
     "start_time": "2022-03-15T22:32:02.315389",
     "status": "completed"
    },
    "tags": []
   },
   "source": [
    "- Analyser les conséquences sur chacun des graphiques de réaliser un arbre de décision dont la racine utiliserait cet attribut afin de réaliser la première séparation.\n",
    "Exemple : Si on séparait sur le critère de l'école, \n",
    "   - les deux branches seraient d'effectifs très déséquilibrées\n",
    "   - on aurait peu d'informations nouvelle sur les 'GP' (la plus nombreuse)\n",
    "   - sur les 'MS' la proportion de 'C' aurait augmenté par rapport à toutes les autres classes, et en particulier les proportions de B C E auraient particulièrement baissé."
   ]
  },
  {
   "cell_type": "markdown",
   "id": "3ffe123a",
   "metadata": {
    "papermill": {
     "duration": 0.102903,
     "end_time": "2022-03-15T22:32:02.627418",
     "exception": false,
     "start_time": "2022-03-15T22:32:02.524515",
     "status": "completed"
    },
    "tags": []
   },
   "source": [
    "- Choisir un attribut et une façon de scinder en deux cet attribut, par exemple :\n",
    "Je choisi l'attribut 'activities freetime' car .... le côté gauche est défini par $\\leq 4$ et le côté droit par $>4$"
   ]
  },
  {
   "cell_type": "markdown",
   "id": "4cb30f5c",
   "metadata": {
    "papermill": {
     "duration": 0.103262,
     "end_time": "2022-03-15T22:32:02.835305",
     "exception": false,
     "start_time": "2022-03-15T22:32:02.732043",
     "status": "completed"
    },
    "tags": []
   },
   "source": []
  },
  {
   "cell_type": "markdown",
   "id": "97caf8a0",
   "metadata": {
    "papermill": {
     "duration": 0.104562,
     "end_time": "2022-03-15T22:32:03.042956",
     "exception": false,
     "start_time": "2022-03-15T22:32:02.938394",
     "status": "completed"
    },
    "tags": []
   },
   "source": [
    "- Créer deux nouveau dataframes 'd0' et 'd1' correspondant respectivement aux exemples du côté gauche et au exemples du côté droit."
   ]
  },
  {
   "cell_type": "code",
   "execution_count": 22,
   "id": "7a26d2fe",
   "metadata": {
    "execution": {
     "iopub.execute_input": "2022-03-15T22:32:03.252702Z",
     "iopub.status.busy": "2022-03-15T22:32:03.252014Z",
     "iopub.status.idle": "2022-03-15T22:32:03.257028Z",
     "shell.execute_reply": "2022-03-15T22:32:03.257660Z",
     "shell.execute_reply.started": "2022-03-15T22:31:18.724756Z"
    },
    "papermill": {
     "duration": 0.111633,
     "end_time": "2022-03-15T22:32:03.257831",
     "exception": false,
     "start_time": "2022-03-15T22:32:03.146198",
     "status": "completed"
    },
    "tags": []
   },
   "outputs": [],
   "source": [
    "d0 = fichier.loc[fichier.activities == 'no']\n",
    "d1 = fichier.loc[fichier.activities == 'yes']"
   ]
  },
  {
   "cell_type": "markdown",
   "id": "4db099ca",
   "metadata": {
    "papermill": {
     "duration": 0.102889,
     "end_time": "2022-03-15T22:32:03.463629",
     "exception": false,
     "start_time": "2022-03-15T22:32:03.360740",
     "status": "completed"
    },
    "tags": []
   },
   "source": [
    "---\n",
    "# Niveau suivant de l'arbre\n",
    "- Reprendre les graphiques en se limitant à la base 'd0', qui devra alors être découpée en 'd00' et 'd01'\n",
    "- Reprendre les graphiques en se limitant à la base 'd1', qui devra alors être découpée en 'd10' et 'd11'"
   ]
  },
  {
   "cell_type": "code",
   "execution_count": 23,
   "id": "5fa66836",
   "metadata": {
    "execution": {
     "iopub.execute_input": "2022-03-15T22:32:03.672481Z",
     "iopub.status.busy": "2022-03-15T22:32:03.671861Z",
     "iopub.status.idle": "2022-03-15T22:32:03.945280Z",
     "shell.execute_reply": "2022-03-15T22:32:03.945749Z",
     "shell.execute_reply.started": "2022-03-15T22:31:18.734597Z"
    },
    "papermill": {
     "duration": 0.379252,
     "end_time": "2022-03-15T22:32:03.945942",
     "exception": false,
     "start_time": "2022-03-15T22:32:03.566690",
     "status": "completed"
    },
    "tags": []
   },
   "outputs": [
    {
     "data": {
      "text/plain": [
       "<AxesSubplot:title={'center':\"Distribution des exemples sur l'attribut scool\"}, xlabel='G', ylabel='Count'>"
      ]
     },
     "execution_count": 23,
     "metadata": {},
     "output_type": "execute_result"
    },
    {
     "data": {
      "image/png": "[encoded data removed]",
      "text/plain": [
       "<Figure size 648x216 with 1 Axes>"
      ]
     },
     "metadata": {
      "needs_background": "light"
     },
     "output_type": "display_data"
    }
   ],
   "source": [
    "plt.figure(figsize=(9,3))\n",
    "plt.title(\"Distribution des exemples sur l'attribut scool\")\n",
    "sns.histplot(data=d0,x='G',hue='school', multiple='dodge', shrink=.6)"
   ]
  },
  {
   "cell_type": "code",
   "execution_count": 24,
   "id": "8c87dca9",
   "metadata": {
    "execution": {
     "iopub.execute_input": "2022-03-15T22:32:04.165593Z",
     "iopub.status.busy": "2022-03-15T22:32:04.164515Z",
     "iopub.status.idle": "2022-03-15T22:32:05.935668Z",
     "shell.execute_reply": "2022-03-15T22:32:05.935127Z",
     "shell.execute_reply.started": "2022-03-15T22:31:18.983198Z"
    },
    "papermill": {
     "duration": 1.884804,
     "end_time": "2022-03-15T22:32:05.935814",
     "exception": false,
     "start_time": "2022-03-15T22:32:04.051010",
     "status": "completed"
    },
    "tags": []
   },
   "outputs": [
    {
     "data": {
      "text/plain": [
       "<AxesSubplot:title={'center':'Distribution Attribut Fjob'}, xlabel='G', ylabel='Count'>"
      ]
     },
     "execution_count": 24,
     "metadata": {},
     "output_type": "execute_result"
    },
    {
     "data": {
      "image/png": "[encoded data removed]",
      "text/plain": [
       "<Figure size 576x216 with 1 Axes>"
      ]
     },
     "metadata": {
      "needs_background": "light"
     },
     "output_type": "display_data"
    },
    {
     "data": {
      "image/png": "[encoded data removed]",
      "text/plain": [
       "<Figure size 576x216 with 1 Axes>"
      ]
     },
     "metadata": {
      "needs_background": "light"
     },
     "output_type": "display_data"
    },
    {
     "data": {
      "image/png": "[encoded data removed]",
      "text/plain": [
       "<Figure size 576x216 with 1 Axes>"
      ]
     },
     "metadata": {
      "needs_background": "light"
     },
     "output_type": "display_data"
    },
    {
     "data": {
      "image/png": "[encoded data removed]",
      "text/plain": [
       "<Figure size 576x216 with 1 Axes>"
      ]
     },
     "metadata": {
      "needs_background": "light"
     },
     "output_type": "display_data"
    },
    {
     "data": {
      "image/png": "[encoded data removed]",
      "text/plain": [
       "<Figure size 576x216 with 1 Axes>"
      ]
     },
     "metadata": {
      "needs_background": "light"
     },
     "output_type": "display_data"
    },
    {
     "data": {
      "image/png": "[encoded data removed]",
      "text/plain": [
       "<Figure size 576x216 with 1 Axes>"
      ]
     },
     "metadata": {
      "needs_background": "light"
     },
     "output_type": "display_data"
    }
   ],
   "source": [
    "plt.figure(figsize=(8,3))\n",
    "plt.title(\"Distribution Aattribut sex\")\n",
    "sns.histplot(data=d0,x='G',hue='sex', multiple='dodge', shrink=.6)\n",
    "plt.figure(figsize=(8,3))\n",
    "plt.title(\"Distribution Attribut address\")\n",
    "sns.histplot(data=d0,x='G',hue='address', multiple='dodge', shrink=.6)\n",
    "plt.figure(figsize=(8,3))\n",
    "plt.title(\"Distribution Attribut famsize\")\n",
    "sns.histplot(data=d0,x='G',hue='famsize', multiple='dodge', shrink=.6)\n",
    "plt.figure(figsize=(8,3))\n",
    "plt.title(\"Distribution Attribut Pstatus\")\n",
    "sns.histplot(data=d0,x='G',hue='Pstatus', multiple='dodge', shrink=.6)\n",
    "plt.figure(figsize=(8,3))\n",
    "plt.title(\"Distribution Attribut Mjob\")\n",
    "sns.histplot(data=d0,x='G',hue='Mjob', multiple='dodge', shrink=.6)\n",
    "plt.figure(figsize=(8,3))\n",
    "plt.title(\"Distribution Attribut Fjob\")\n",
    "sns.histplot(data=d0,x='G',hue='Fjob', multiple='dodge', shrink=.6)"
   ]
  },
  {
   "cell_type": "code",
   "execution_count": 25,
   "id": "170006ea",
   "metadata": {
    "execution": {
     "iopub.execute_input": "2022-03-15T22:32:06.163160Z",
     "iopub.status.busy": "2022-03-15T22:32:06.162384Z",
     "iopub.status.idle": "2022-03-15T22:32:08.304601Z",
     "shell.execute_reply": "2022-03-15T22:32:08.304037Z",
     "shell.execute_reply.started": "2022-03-15T22:31:20.656512Z"
    },
    "papermill": {
     "duration": 2.257307,
     "end_time": "2022-03-15T22:32:08.304745",
     "exception": false,
     "start_time": "2022-03-15T22:32:06.047438",
     "status": "completed"
    },
    "tags": []
   },
   "outputs": [
    {
     "data": {
      "text/plain": [
       "<AxesSubplot:title={'center':'Distribution Attribut nursery'}, xlabel='G', ylabel='Count'>"
      ]
     },
     "execution_count": 25,
     "metadata": {},
     "output_type": "execute_result"
    },
    {
     "data": {
      "image/png": "[encoded data removed]",
      "text/plain": [
       "<Figure size 648x216 with 1 Axes>"
      ]
     },
     "metadata": {
      "needs_background": "light"
     },
     "output_type": "display_data"
    },
    {
     "data": {
      "image/png": "[encoded data removed]",
      "text/plain": [
       "<Figure size 648x216 with 1 Axes>"
      ]
     },
     "metadata": {
      "needs_background": "light"
     },
     "output_type": "display_data"
    },
    {
     "data": {
      "image/png": "[encoded data removed]",
      "text/plain": [
       "<Figure size 648x216 with 1 Axes>"
      ]
     },
     "metadata": {
      "needs_background": "light"
     },
     "output_type": "display_data"
    },
    {
     "data": {
      "image/png": "[encoded data removed]",
      "text/plain": [
       "<Figure size 648x216 with 1 Axes>"
      ]
     },
     "metadata": {
      "needs_background": "light"
     },
     "output_type": "display_data"
    },
    {
     "data": {
      "image/png": "[encoded data removed]",
      "text/plain": [
       "<Figure size 648x216 with 1 Axes>"
      ]
     },
     "metadata": {
      "needs_background": "light"
     },
     "output_type": "display_data"
    },
    {
     "data": {
      "image/png": "[encoded data removed]",
      "text/plain": [
       "<Figure size 648x216 with 1 Axes>"
      ]
     },
     "metadata": {
      "needs_background": "light"
     },
     "output_type": "display_data"
    },
    {
     "data": {
      "image/png": "[encoded data removed]",
      "text/plain": [
       "<Figure size 648x216 with 1 Axes>"
      ]
     },
     "metadata": {
      "needs_background": "light"
     },
     "output_type": "display_data"
    }
   ],
   "source": [
    "plt.figure(figsize=(9,3))\n",
    "plt.title(\"Distribution Attribut reason\")\n",
    "sns.histplot(data=d0,x='G',hue='reason', multiple='dodge', shrink=.6)\n",
    "plt.figure(figsize=(9,3))\n",
    "plt.title(\"Distribution Attribut guardian\")\n",
    "sns.histplot(data=d0,x='G',hue='guardian', multiple='dodge', shrink=.6)\n",
    "plt.figure(figsize=(9,3))\n",
    "plt.title(\"Distribution Attribut schoolsup\")\n",
    "sns.histplot(data=d0,x='G',hue='schoolsup', multiple='dodge', shrink=.6)\n",
    "plt.figure(figsize=(9,3))\n",
    "plt.title(\"Distribution Attribut famsup\")\n",
    "sns.histplot(data=d0,x='G',hue='famsup', multiple='dodge', shrink=.6)\n",
    "plt.figure(figsize=(9,3))\n",
    "plt.title(\"Distribution Attribut paid\")\n",
    "sns.histplot(data=d0,x='G',hue='paid', multiple='dodge', shrink=.6)\n",
    "plt.figure(figsize=(9,3))\n",
    "plt.title(\"Distribution Attribut activities\")\n",
    "sns.histplot(data=d0,x='G',hue='activities', multiple='dodge', shrink=.6)\n",
    "plt.figure(figsize=(9,3))\n",
    "plt.title(\"Distribution Attribut nursery\")\n",
    "sns.histplot(data=d0,x='G',hue='nursery', multiple='dodge', shrink=.6)"
   ]
  },
  {
   "cell_type": "code",
   "execution_count": 26,
   "id": "bd735626",
   "metadata": {
    "execution": {
     "iopub.execute_input": "2022-03-15T22:32:08.572404Z",
     "iopub.status.busy": "2022-03-15T22:32:08.559255Z",
     "iopub.status.idle": "2022-03-15T22:32:09.361608Z",
     "shell.execute_reply": "2022-03-15T22:32:09.361075Z",
     "shell.execute_reply.started": "2022-03-15T22:31:22.108099Z"
    },
    "papermill": {
     "duration": 0.940849,
     "end_time": "2022-03-15T22:32:09.361760",
     "exception": false,
     "start_time": "2022-03-15T22:32:08.420911",
     "status": "completed"
    },
    "tags": []
   },
   "outputs": [
    {
     "data": {
      "text/plain": [
       "<AxesSubplot:title={'center':'Distribution Attribut romantic'}, xlabel='G', ylabel='Count'>"
      ]
     },
     "execution_count": 26,
     "metadata": {},
     "output_type": "execute_result"
    },
    {
     "data": {
      "image/png": "[encoded data removed]",
      "text/plain": [
       "<Figure size 648x216 with 1 Axes>"
      ]
     },
     "metadata": {
      "needs_background": "light"
     },
     "output_type": "display_data"
    },
    {
     "data": {
      "image/png": "[encoded data removed]",
      "text/plain": [
       "<Figure size 648x216 with 1 Axes>"
      ]
     },
     "metadata": {
      "needs_background": "light"
     },
     "output_type": "display_data"
    },
    {
     "data": {
      "image/png": "[encoded data removed]",
      "text/plain": [
       "<Figure size 648x216 with 1 Axes>"
      ]
     },
     "metadata": {
      "needs_background": "light"
     },
     "output_type": "display_data"
    }
   ],
   "source": [
    "plt.figure(figsize=(9,3))\n",
    "plt.title(\"Distribution Attribut higher\")\n",
    "sns.histplot(data=d0 ,x='G',hue='higher', multiple='dodge', shrink=.6)\n",
    "plt.figure(figsize=(9,3))\n",
    "plt.title(\"Distribution Attribut internet\")\n",
    "sns.histplot(data=d0 ,x='G',hue='internet', multiple='dodge', shrink=.6)\n",
    "plt.figure(figsize=(9,3))\n",
    "plt.title(\"Distribution Attribut romantic\")\n",
    "sns.histplot(data=d0,x='G',hue='romantic', multiple='dodge', shrink=.6)"
   ]
  },
  {
   "cell_type": "markdown",
   "id": "63c852bd",
   "metadata": {
    "papermill": {
     "duration": 0.120577,
     "end_time": "2022-03-15T22:32:09.602431",
     "exception": false,
     "start_time": "2022-03-15T22:32:09.481854",
     "status": "completed"
    },
    "tags": []
   },
   "source": [
    "---\n",
    "# Fonction de découpe\n",
    "- Ecrire une fonction qui attribue à une ligne du dataframe 'train' l'ensemble auquel cet élément est assigné, parmi 'd00, d01, d10, d11' (ce sont les feuilles de notre arbdre de décision)\n",
    "- Déterminer la classe la plus fréquente dans chacun des ensembles 'd00, d01, d10, d11'\n",
    "- Ecrire une fonction qui associe à une ligne du dataframe la classe majoritaire de l'ensemble auquel il est affecté"
   ]
  },
  {
   "cell_type": "code",
   "execution_count": 27,
   "id": "3a513025",
   "metadata": {
    "execution": {
     "iopub.execute_input": "2022-03-15T22:32:09.852458Z",
     "iopub.status.busy": "2022-03-15T22:32:09.851596Z",
     "iopub.status.idle": "2022-03-15T22:32:09.854425Z",
     "shell.execute_reply": "2022-03-15T22:32:09.853861Z",
     "shell.execute_reply.started": "2022-03-15T22:31:22.720059Z"
    },
    "papermill": {
     "duration": 0.132302,
     "end_time": "2022-03-15T22:32:09.854587",
     "exception": false,
     "start_time": "2022-03-15T22:32:09.722285",
     "status": "completed"
    },
    "tags": []
   },
   "outputs": [],
   "source": [
    "def E_assigne(data,line):\n",
    "    \n",
    "    look = data.iloc[line,:]\n",
    "    if(look['activities'] == 'no'):\n",
    "        if(look['paid'] == 'no'):\n",
    "            ensemble = 'd00'\n",
    "        elif(look['paid'] == 'yes'):\n",
    "            ensemble = 'd01'\n",
    "        else:\n",
    "            ensemble = 'rien trouvé'\n",
    "    elif(look['activities'] == 'yes'):\n",
    "            if(look['paid'] == 'yes'):\n",
    "                ensemble = 'd10'\n",
    "            elif(look['paid'] == 'no'):\n",
    "                ensemble = 'd11'\n",
    "            else:ensemble ='rien trouvé'\n",
    "    return ensemble"
   ]
  },
  {
   "cell_type": "code",
   "execution_count": 28,
   "id": "ce8d91e0",
   "metadata": {
    "execution": {
     "iopub.execute_input": "2022-03-15T22:32:10.104168Z",
     "iopub.status.busy": "2022-03-15T22:32:10.103444Z",
     "iopub.status.idle": "2022-03-15T22:32:10.106613Z",
     "shell.execute_reply": "2022-03-15T22:32:10.107133Z",
     "shell.execute_reply.started": "2022-03-15T22:31:22.726553Z"
    },
    "papermill": {
     "duration": 0.132321,
     "end_time": "2022-03-15T22:32:10.107303",
     "exception": false,
     "start_time": "2022-03-15T22:32:09.974982",
     "status": "completed"
    },
    "tags": []
   },
   "outputs": [
    {
     "name": "stdout",
     "output_type": "stream",
     "text": [
      "Cette ligne appartient à d01\n"
     ]
    }
   ],
   "source": [
    "print(\"Cette ligne appartient à \" + E_assigne(train_X,9))"
   ]
  },
  {
   "cell_type": "code",
   "execution_count": 29,
   "id": "b0443fe0",
   "metadata": {
    "execution": {
     "iopub.execute_input": "2022-03-15T22:32:10.353306Z",
     "iopub.status.busy": "2022-03-15T22:32:10.352234Z",
     "iopub.status.idle": "2022-03-15T22:32:10.354885Z",
     "shell.execute_reply": "2022-03-15T22:32:10.355340Z",
     "shell.execute_reply.started": "2022-03-15T22:31:22.739221Z"
    },
    "papermill": {
     "duration": 0.128587,
     "end_time": "2022-03-15T22:32:10.355518",
     "exception": false,
     "start_time": "2022-03-15T22:32:10.226931",
     "status": "completed"
    },
    "tags": []
   },
   "outputs": [],
   "source": [
    "def associe_classe(df,s_sets,ligne):\n",
    "    ensemble = ensemble_assigne(df,ligne)\n",
    "    ensemble = subsets[ensemble]\n",
    "    classe = classe_la_plus_frequente(ensemble)\n",
    "    print(\"la classe majoritaire pour cette ligne est: \" + classe)\n",
    "#Classe majoritaire associé à une ligne du Dataframe"
   ]
  },
  {
   "cell_type": "code",
   "execution_count": null,
   "id": "3417a093",
   "metadata": {
    "papermill": {
     "duration": 0.121578,
     "end_time": "2022-03-15T22:32:10.599225",
     "exception": false,
     "start_time": "2022-03-15T22:32:10.477647",
     "status": "completed"
    },
    "tags": []
   },
   "outputs": [],
   "source": []
  },
  {
   "cell_type": "code",
   "execution_count": null,
   "id": "b810dff9",
   "metadata": {
    "papermill": {
     "duration": 0.121583,
     "end_time": "2022-03-15T22:32:10.841988",
     "exception": false,
     "start_time": "2022-03-15T22:32:10.720405",
     "status": "completed"
    },
    "tags": []
   },
   "outputs": [],
   "source": []
  },
  {
   "cell_type": "markdown",
   "id": "729863f4",
   "metadata": {
    "papermill": {
     "duration": 0.132343,
     "end_time": "2022-03-15T22:32:11.094474",
     "exception": false,
     "start_time": "2022-03-15T22:32:10.962131",
     "status": "completed"
    },
    "tags": []
   },
   "source": [
    "---\n",
    "# Qualité de l'arbre\n",
    "- Sachant que  nous allons essayer d'autres façons de réaliser l'apprentissage, sur quel ensemble doit-on réaliser la mesure de la qualité de l'arbre ainsi créé ?\n",
    "- On choisit comme mesure de qualité le taux de bonnes prédictions (accuracy), le calculer.\n",
    "- représenter la matrice de confusion"
   ]
  },
  {
   "cell_type": "code",
   "execution_count": 30,
   "id": "eb9810cc",
   "metadata": {
    "execution": {
     "iopub.execute_input": "2022-03-15T22:32:11.360747Z",
     "iopub.status.busy": "2022-03-15T22:32:11.360063Z",
     "iopub.status.idle": "2022-03-15T22:32:11.511811Z",
     "shell.execute_reply": "2022-03-15T22:32:11.511200Z",
     "shell.execute_reply.started": "2022-03-15T22:31:22.750996Z"
    },
    "papermill": {
     "duration": 0.279959,
     "end_time": "2022-03-15T22:32:11.511964",
     "exception": false,
     "start_time": "2022-03-15T22:32:11.232005",
     "status": "completed"
    },
    "tags": []
   },
   "outputs": [],
   "source": [
    "from sklearn import tree"
   ]
  },
  {
   "cell_type": "markdown",
   "id": "13d4c26c",
   "metadata": {
    "_uuid": "bb11f1afdab357e471438c41e0932963ab5e7789",
    "papermill": {
     "duration": 0.11943,
     "end_time": "2022-03-15T22:32:11.753390",
     "exception": false,
     "start_time": "2022-03-15T22:32:11.633960",
     "status": "completed"
    },
    "tags": []
   },
   "source": [
    "---\n",
    "# Arbre de décision réalisés par sklearn\n",
    "---\n",
    "- importer le module ```tree``` de ```sklearn```\n",
    "- Etudier la documentation de ```DecisionTreeClassifier```, en particulier la partie **Tips on practical use**\n",
    "- Construire un classifieur utilisant l'indice de Gini\n",
    "\n",
    "Attention : actuellement, les arbres de décision de sklearn ne supportent que les données numériques, il  faudra donc réaliser un prétraitement sur les données afin de transformer les attributs catégoriels en attributs numériques."
   ]
  },
  {
   "cell_type": "code",
   "execution_count": null,
   "id": "6ba92c2e",
   "metadata": {
    "papermill": {
     "duration": 0.119481,
     "end_time": "2022-03-15T22:32:11.993718",
     "exception": false,
     "start_time": "2022-03-15T22:32:11.874237",
     "status": "completed"
    },
    "tags": []
   },
   "outputs": [],
   "source": [
    "\n"
   ]
  },
  {
   "cell_type": "markdown",
   "id": "569e788a",
   "metadata": {
    "_uuid": "c22ed46e350efaec20a4793326e2dfe0c3352b34",
    "papermill": {
     "duration": 0.119531,
     "end_time": "2022-03-15T22:32:12.234076",
     "exception": false,
     "start_time": "2022-03-15T22:32:12.114545",
     "status": "completed"
    },
    "tags": []
   },
   "source": [
    "# Qualité\n",
    "\n",
    "- calculer la matrice de confusion\n",
    "- calculer les scores usuels de ce classifieur\n",
    "- à l'aide de la fonction ```plot_confusion_matrix``` de sklearn, représenter graphiquement la matrice de confusion\n",
    "- Comparer les scores à ceux obtenus par un classifieur 'bidon' (sklearn.dummy) (à quoi cela sert-il ?)\n",
    "\n",
    "Rq : il reste un bug dans dummy, si vous obtenez une erreur de type 'no argmax on list', un contournement de ce problème peut être obtenu en reformattant les entrées du classifieur par 'check_X_y'\n"
   ]
  },
  {
   "cell_type": "code",
   "execution_count": null,
   "id": "58aa3828",
   "metadata": {
    "papermill": {
     "duration": 0.119551,
     "end_time": "2022-03-15T22:32:12.474221",
     "exception": false,
     "start_time": "2022-03-15T22:32:12.354670",
     "status": "completed"
    },
    "tags": []
   },
   "outputs": [],
   "source": []
  },
  {
   "cell_type": "markdown",
   "id": "3b8d8dce",
   "metadata": {
    "papermill": {
     "duration": 0.119041,
     "end_time": "2022-03-15T22:32:12.713322",
     "exception": false,
     "start_time": "2022-03-15T22:32:12.594281",
     "status": "completed"
    },
    "tags": []
   },
   "source": [
    "---\n",
    "# Comparaison avec un classifieur primitif\n",
    "Entrainer un 'dummy' classifieur (```sklearn.dummy.DummyClassifier```), et comparer les mesures du classifieur précédent à ce nouveau classifieur"
   ]
  },
  {
   "cell_type": "code",
   "execution_count": null,
   "id": "a0d092cd",
   "metadata": {
    "papermill": {
     "duration": 0.12069,
     "end_time": "2022-03-15T22:32:12.955771",
     "exception": false,
     "start_time": "2022-03-15T22:32:12.835081",
     "status": "completed"
    },
    "tags": []
   },
   "outputs": [],
   "source": []
  },
  {
   "cell_type": "markdown",
   "id": "73ad1642",
   "metadata": {
    "papermill": {
     "duration": 0.119239,
     "end_time": "2022-03-15T22:32:13.196207",
     "exception": false,
     "start_time": "2022-03-15T22:32:13.076968",
     "status": "completed"
    },
    "tags": []
   },
   "source": [
    "---\n",
    "# Représenter un arbre de décision\n",
    "- Importer le module graphviz\n",
    "- utiliser la fonction de ```tree.export_graphviz``` puis ```graphviz.Source``` afin de réaliser une belle représentation graphique de l'arbre de décision"
   ]
  },
  {
   "cell_type": "code",
   "execution_count": null,
   "id": "a9695425",
   "metadata": {
    "papermill": {
     "duration": 0.121584,
     "end_time": "2022-03-15T22:32:13.437378",
     "exception": false,
     "start_time": "2022-03-15T22:32:13.315794",
     "status": "completed"
    },
    "tags": []
   },
   "outputs": [],
   "source": []
  },
  {
   "cell_type": "markdown",
   "id": "a3fe076e",
   "metadata": {
    "_uuid": "25a307d87ca0c9e5ceed22ac0817255cc76627b7",
    "papermill": {
     "duration": 0.119838,
     "end_time": "2022-03-15T22:32:13.677782",
     "exception": false,
     "start_time": "2022-03-15T22:32:13.557944",
     "status": "completed"
    },
    "tags": []
   },
   "source": [
    "---\n",
    "# Construction du 'meilleur' arbre de décision\n",
    "- faire varier les paramètres de construction de l'arbre de décision (bien mettre en pratique les 'Tips')\n",
    "- choisir l'arbre le 'meilleur' sur l'ensemble de test  \n",
    "\n",
    "N'oubliez pas le principe du ** rasoir d'Ockham ** pour effectuer votre choix !!!!!"
   ]
  },
  {
   "cell_type": "code",
   "execution_count": null,
   "id": "bc894a98",
   "metadata": {
    "_uuid": "a5c4d02c2b32cdb8afd8acb2f82d1b30bceebea8",
    "papermill": {
     "duration": 0.121031,
     "end_time": "2022-03-15T22:32:13.921250",
     "exception": false,
     "start_time": "2022-03-15T22:32:13.800219",
     "status": "completed"
    },
    "tags": []
   },
   "outputs": [],
   "source": []
  },
  {
   "cell_type": "markdown",
   "id": "43a56eda",
   "metadata": {
    "papermill": {
     "duration": 0.120291,
     "end_time": "2022-03-15T22:32:14.162969",
     "exception": false,
     "start_time": "2022-03-15T22:32:14.042678",
     "status": "completed"
    },
    "tags": []
   },
   "source": [
    "---\n",
    "# Random Forest\n",
    "---\n",
    "- Rappeler le principe des forets d'arbres décisionnelles, statquest est votre ami ! \n",
    "    - https://www.youtube.com/watch?v=J4Wdy0Wc_xQ\n",
    "    - https://www.youtube.com/watch?v=nyxTdL_4Q-Q\n",
    "\n",
    "- Remplacer le classifieur par arbre de décision par un classifieur par une forêt d'arbres décisionnels"
   ]
  },
  {
   "cell_type": "code",
   "execution_count": null,
   "id": "5961b223",
   "metadata": {
    "papermill": {
     "duration": 0.120569,
     "end_time": "2022-03-15T22:32:14.402784",
     "exception": false,
     "start_time": "2022-03-15T22:32:14.282215",
     "status": "completed"
    },
    "tags": []
   },
   "outputs": [],
   "source": []
  },
  {
   "cell_type": "markdown",
   "id": "faa2e13d",
   "metadata": {
    "papermill": {
     "duration": 0.119584,
     "end_time": "2022-03-15T22:32:14.642654",
     "exception": false,
     "start_time": "2022-03-15T22:32:14.523070",
     "status": "completed"
    },
    "tags": []
   },
   "source": [
    "---\n",
    "# Livraison\n",
    "---\n",
    "Faire les tests finaux afin de connaître la qualité de votre apprentissage, en reprenant les différentes mesures, mais cette fois sur l'ensemble de test."
   ]
  },
  {
   "cell_type": "code",
   "execution_count": null,
   "id": "70559481",
   "metadata": {
    "papermill": {
     "duration": 0.121285,
     "end_time": "2022-03-15T22:32:14.883593",
     "exception": false,
     "start_time": "2022-03-15T22:32:14.762308",
     "status": "completed"
    },
    "tags": []
   },
   "outputs": [],
   "source": []
  },
  {
   "cell_type": "markdown",
   "id": "6ed58e68",
   "metadata": {
    "_uuid": "a2c74a91a2aa40cd5cf07ce22a583f0c2ff5c4eb",
    "papermill": {
     "duration": 0.121239,
     "end_time": "2022-03-15T22:32:15.125637",
     "exception": false,
     "start_time": "2022-03-15T22:32:15.004398",
     "status": "completed"
    },
    "tags": []
   },
   "source": [
    "# Merci d'être allé jusqu'à la fin du TP, j'espère que ce travail vous a aidé à approfondir votre compréhension du cours d'apprentissage artificiel."
   ]
  }
 ],
 "metadata": {
  "kernelspec": {
   "display_name": "Python 3",
   "language": "python",
   "name": "python3"
  },
  "language_info": {
   "codemirror_mode": {
    "name": "ipython",
    "version": 3
   },
   "file_extension": ".py",
   "mimetype": "text/x-python",
   "name": "python",
   "nbconvert_exporter": "python",
   "pygments_lexer": "ipython3",
   "version": "3.7.12"
  },
  "papermill": {
   "default_parameters": {},
   "duration": 36.119134,
   "end_time": "2022-03-15T22:32:16.056254",
   "environment_variables": {},
   "exception": null,
   "input_path": "__notebook__.ipynb",
   "output_path": "__notebook__.ipynb",
   "parameters": {},
   "start_time": "2022-03-15T22:31:39.937120",
   "version": "2.3.3"
  }
 },
 "nbformat": 4,
 "nbformat_minor": 5
}
